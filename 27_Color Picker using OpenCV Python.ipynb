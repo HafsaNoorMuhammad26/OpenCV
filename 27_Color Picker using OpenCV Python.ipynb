{
 "cells": [
  {
   "cell_type": "markdown",
   "id": "bb8919e1-6999-4208-8541-27e47ed81bdf",
   "metadata": {},
   "source": [
    "**27_Color Picker using OpenCV Python**"
   ]
  },
  {
   "cell_type": "code",
   "execution_count": 1,
   "id": "09cae347-05e7-41d4-a49a-bfd097345197",
   "metadata": {},
   "outputs": [],
   "source": [
    "import cv2\n",
    "import numpy as np"
   ]
  },
  {
   "cell_type": "code",
   "execution_count": 2,
   "id": "ead958eb-53b2-4edb-8819-f1c96678897d",
   "metadata": {},
   "outputs": [],
   "source": [
    "def cl(x):\n",
    "    pass"
   ]
  },
  {
   "cell_type": "code",
   "execution_count": 5,
   "id": "26bb855a-ef14-45da-aafb-fa680800780b",
   "metadata": {},
   "outputs": [],
   "source": [
    "img = np.zeros((500,500,3),np.uint8)*255\n",
    "\n",
    "cv2.namedWindow(\"colour\")\n",
    "\n",
    "cv2.createTrackbar(\"R\",\"colour\",0,255,cl)\n",
    "cv2.createTrackbar(\"G\",\"colour\",0,255,cl)\n",
    "cv2.createTrackbar(\"B\",\"colour\",0,255,cl)\n",
    "\n",
    "while True:\n",
    "    cv2.imshow(\"colour\", img)\n",
    "    if cv2.waitKey(1) & 0xff == ord(\"p\"): #if cv2.waitKey(1)--> for dynamic\n",
    "        break\n",
    "    r = cv2.getTrackbarPos(\"R\", \"colour\")\n",
    "    g = cv2.getTrackbarPos(\"G\", \"colour\")\n",
    "    b = cv2.getTrackbarPos(\"B\", \"colour\")\n",
    "\n",
    "    img[:] = [b,g,r]\n",
    "cv2.destroyAllWindows()"
   ]
  },
  {
   "cell_type": "code",
   "execution_count": null,
   "id": "bf235dc0-1d3c-4e84-b63e-38263a78bf2a",
   "metadata": {},
   "outputs": [],
   "source": []
  }
 ],
 "metadata": {
  "kernelspec": {
   "display_name": "Python 3 (ipykernel)",
   "language": "python",
   "name": "python3"
  },
  "language_info": {
   "codemirror_mode": {
    "name": "ipython",
    "version": 3
   },
   "file_extension": ".py",
   "mimetype": "text/x-python",
   "name": "python",
   "nbconvert_exporter": "python",
   "pygments_lexer": "ipython3",
   "version": "3.12.4"
  }
 },
 "nbformat": 4,
 "nbformat_minor": 5
}
