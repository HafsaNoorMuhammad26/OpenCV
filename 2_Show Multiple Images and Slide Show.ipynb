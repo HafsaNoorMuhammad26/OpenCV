{
 "cells": [
  {
   "cell_type": "markdown",
   "id": "237e47b8-e0d4-49ca-874b-8381d666b52a",
   "metadata": {},
   "source": [
    "**Show Multiple Images and Slide Show**"
   ]
  },
  {
   "cell_type": "code",
   "execution_count": 12,
   "id": "993ac386-ab77-4637-8bfd-52f6e785e9f9",
   "metadata": {},
   "outputs": [],
   "source": [
    "import cv2\n",
    "import numpy as np\n",
    "import os"
   ]
  },
  {
   "cell_type": "code",
   "execution_count": 3,
   "id": "025de24a-f83f-4f12-9cf6-6f4eabff278b",
   "metadata": {},
   "outputs": [],
   "source": [
    "img = cv2.imread(r\"C:\\Users\\hp\\Documents\\jupyter\\OpenCV by WsCube Tech\\rain-flower_ERM78DQMOZ.jpg\")\n",
    "re_img = cv2.resize(img,(500,600))  # resize image by giving width and height\n",
    "cv2.imshow(\"frame1\", re_img)\n",
    "cv2.waitKey(0)\n",
    "cv2.destroyAllWindows()"
   ]
  },
  {
   "cell_type": "code",
   "execution_count": 17,
   "id": "1431da31-8fc4-4138-93e9-365589eaeec3",
   "metadata": {},
   "outputs": [
    {
     "data": {
      "text/plain": [
       "array([1, 2, 3, 1, 2, 3, 1, 2, 3, 1, 2, 3])"
      ]
     },
     "execution_count": 17,
     "metadata": {},
     "output_type": "execute_result"
    }
   ],
   "source": [
    "v = np.array([1,2,3,1,2,3])\n",
    "np.hstack((v,v))"
   ]
  },
  {
   "cell_type": "code",
   "execution_count": null,
   "id": "e6679799-55ee-4d9e-ba0a-1e9adfc23743",
   "metadata": {},
   "outputs": [],
   "source": [
    "img = cv2.imread(r\"C:\\Users\\hp\\Documents\\jupyter\\OpenCV by WsCube Tech\\rain-flower_ERM78DQMOZ.jpg\")\n",
    "print(img)"
   ]
  },
  {
   "cell_type": "code",
   "execution_count": 3,
   "id": "ed6746b5-90a2-41e5-8259-e047f7bda1d0",
   "metadata": {},
   "outputs": [],
   "source": [
    "# img = cv2.imread(r\"C:\\Users\\hp\\Downloads\\quaid.jpeg\")\n",
    "# re_img = cv2.resize(img,(300,300))  # resize image by giving width and height\n",
    "# h = np.hstack((re_img,re_img))\n",
    "# v = np.vstack((re_img,re_img))\n",
    "# cv2.imshow(\"frame1\", h)\n",
    "# # cv2.imshow(\"frame1\", v)\n",
    "# cv2.waitKey(0)\n",
    "# cv2.destroyAllWindows()"
   ]
  },
  {
   "cell_type": "code",
   "execution_count": 5,
   "id": "8af6b838-4d57-414b-bbc1-dce1ea712ee1",
   "metadata": {},
   "outputs": [],
   "source": [
    "img = cv2.imread(r\"C:\\Users\\hp\\Downloads\\quaid.jpeg\")\n",
    "re_img = cv2.resize(img,(300,300))  # resize image by giving width and height\n",
    "h = np.hstack((re_img,re_img,re_img))\n",
    "v = np.vstack((h,h))\n",
    "cv2.imshow(\"frame1\", v)\n",
    "cv2.waitKey(0)\n",
    "cv2.destroyAllWindows()"
   ]
  },
  {
   "cell_type": "code",
   "execution_count": 15,
   "id": "a639e727-2948-44da-bb13-14265dbb87a8",
   "metadata": {},
   "outputs": [
    {
     "data": {
      "text/plain": [
       "['bird.jpg',\n",
       " 'img1.jpg',\n",
       " 'img3.jpg',\n",
       " 'img4.jpg',\n",
       " 'pexels-pixabay-39517.jpg',\n",
       " 'rain-flower_ERM78DQMOZ.jpg']"
      ]
     },
     "execution_count": 15,
     "metadata": {},
     "output_type": "execute_result"
    }
   ],
   "source": [
    "list_name = os.listdir(r\"C:\\Users\\hp\\Documents\\jupyter\\OpenCV by WsCube Tech\\Images\")\n",
    "list_name"
   ]
  },
  {
   "cell_type": "code",
   "execution_count": 21,
   "id": "d1b852fd-57b8-40ca-a102-11a9b5fbb44e",
   "metadata": {},
   "outputs": [],
   "source": [
    "list_name = os.listdir(r\"C:\\Users\\hp\\Documents\\jupyter\\OpenCV by WsCube Tech\\Images\")\n",
    "\n",
    "for name in list_name:\n",
    "    path = \"C:\\\\Users\\\\hp\\\\Documents\\\\jupyter\\\\OpenCV by WsCube Tech\\\\Images\"\n",
    "    img_name = path + \"\\\\\" + name\n",
    "    img = cv2.imread(img_name)\n",
    "    img = cv2.resize(img,(500,500))\n",
    "    cv2.imshow(\"frame\", img)\n",
    "    cv2.waitKey(1000)  # slideshow images 1 sec\n",
    "    # cv2.waitKey(0) # image frame wait      time-ms    and    0 pass keyword any key press\n",
    "\n",
    "cv2.destroyAllWindows()"
   ]
  },
  {
   "cell_type": "code",
   "execution_count": null,
   "id": "393c9641-bdad-4a3c-87b5-06c3cf29e5e9",
   "metadata": {},
   "outputs": [],
   "source": []
  }
 ],
 "metadata": {
  "kernelspec": {
   "display_name": "Python 3 (ipykernel)",
   "language": "python",
   "name": "python3"
  },
  "language_info": {
   "codemirror_mode": {
    "name": "ipython",
    "version": 3
   },
   "file_extension": ".py",
   "mimetype": "text/x-python",
   "name": "python",
   "nbconvert_exporter": "python",
   "pygments_lexer": "ipython3",
   "version": "3.12.4"
  }
 },
 "nbformat": 4,
 "nbformat_minor": 5
}
