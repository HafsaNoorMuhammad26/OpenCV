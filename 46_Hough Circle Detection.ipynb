{
 "cells": [
  {
   "cell_type": "markdown",
   "id": "4df8d666-38f0-4cd1-bae8-487aeef95ef0",
   "metadata": {},
   "source": [
    "**46_Hough Circle Detection**"
   ]
  },
  {
   "cell_type": "code",
   "execution_count": 1,
   "id": "a3571d48-d2f4-483a-a960-86a5a1fd90b1",
   "metadata": {},
   "outputs": [],
   "source": [
    "import cv2\n",
    "import numpy as np"
   ]
  },
  {
   "cell_type": "code",
   "execution_count": 14,
   "id": "b59207d8-5376-4f6d-91ce-5ad62db62ae0",
   "metadata": {},
   "outputs": [],
   "source": [
    "img = cv2.imread(r\"C:\\Users\\hp\\Documents\\jupyter\\OpenCV by WsCube Tech\\Images\\balls.png\")\n",
    "#To detect circles\n",
    "##Use grayscale image\n",
    "gray = cv2.cvtColor(img, cv2.COLOR_BGR2GRAY)\n",
    "gray = cv2.medianBlur(gray,5)    # to blur image ---> image, matix size\n",
    "\n",
    "##For circle\n",
    "c = cv2.HoughCircles(gray, cv2.HOUGH_GRADIENT, 1, 20, param1=70, param2=40, minRadius=0, maxRadius=0)\n",
    "\n",
    "print(c)\n",
    "\n",
    "data = np.uint16(np.around(c)) # Round\n",
    "\n",
    "# x-axis,y-axis,radius  # Rows in 0 point & columns in all columns point\n",
    "for (x,y,r) in data[0,:]:\n",
    "    cv2.circle(img,(x,y),r,(0,0,255),4)\n",
    "\n",
    "cv2.imshow(\"Circle Img\", img)\n",
    "cv2.waitKey(0)\n",
    "cv2.destroyAllWindows()\n",
    "\n",
    "\n",
    "\n"
   ]
  },
  {
   "cell_type": "code",
   "execution_count": null,
   "id": "b144854d-05af-4dfe-bdaa-dc21b537f50d",
   "metadata": {},
   "outputs": [],
   "source": []
  }
 ],
 "metadata": {
  "kernelspec": {
   "display_name": "Python 3 (ipykernel)",
   "language": "python",
   "name": "python3"
  },
  "language_info": {
   "codemirror_mode": {
    "name": "ipython",
    "version": 3
   },
   "file_extension": ".py",
   "mimetype": "text/x-python",
   "name": "python",
   "nbconvert_exporter": "python",
   "pygments_lexer": "ipython3",
   "version": "3.12.4"
  }
 },
 "nbformat": 4,
 "nbformat_minor": 5
}
