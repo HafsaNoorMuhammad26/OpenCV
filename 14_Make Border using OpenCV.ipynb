{
 "cells": [
  {
   "cell_type": "markdown",
   "id": "8e1fa96a-f3de-4bea-9aab-1313bc1278cc",
   "metadata": {},
   "source": [
    "**14_Make Border using OpenCV**"
   ]
  },
  {
   "cell_type": "code",
   "execution_count": 2,
   "id": "042dddf2-e810-4b3b-925d-ebada9711d58",
   "metadata": {},
   "outputs": [],
   "source": [
    "import cv2\n",
    "import numpy as np"
   ]
  },
  {
   "cell_type": "code",
   "execution_count": 3,
   "id": "1264e835-1620-491b-9d38-880c6c1c74e0",
   "metadata": {},
   "outputs": [],
   "source": [
    "img = cv2.imread(r\"C:\\Users\\hp\\Documents\\jupyter\\OpenCV by WsCube Tech\\Images\\Sana Javaid.jpg\")\n",
    "img = cv2.resize(img, (300, 300))\n",
    "\n",
    "# img1 = cv2.copyMakeBorder(img, 20, 20, 20, 20, cv2.BORDER_CONSTANT, None, value = 2)\n",
    "# img1 = cv2.resize(img1, (300,300))\n",
    "\n",
    "# img2 = cv2.copyMakeBorder(img, 20, 20, 20, 20, cv2.BORDER_DEFAULT, None, value = 2)\n",
    "# img2 = cv2.resize(img1, (300,300))\n",
    "\n",
    "# h_img = np.hstack((img, img1, img2))\n",
    "\n",
    "# cv2.imshow(\"W2\", h_img)\n",
    "\n",
    "img3 = cv2.copyMakeBorder(img, 20, 20, 20, 20, cv2.BORDER_REFLECT)\n",
    "cv2.imshow(\"W3\", img3)\n",
    "\n",
    "cv2.waitKey(0)\n",
    "cv2.destroyAllWindows()"
   ]
  },
  {
   "cell_type": "code",
   "execution_count": null,
   "id": "91fabb86-e0e2-453f-af1b-6ce2250647c8",
   "metadata": {},
   "outputs": [],
   "source": []
  }
 ],
 "metadata": {
  "kernelspec": {
   "display_name": "Python 3 (ipykernel)",
   "language": "python",
   "name": "python3"
  },
  "language_info": {
   "codemirror_mode": {
    "name": "ipython",
    "version": 3
   },
   "file_extension": ".py",
   "mimetype": "text/x-python",
   "name": "python",
   "nbconvert_exporter": "python",
   "pygments_lexer": "ipython3",
   "version": "3.12.4"
  }
 },
 "nbformat": 4,
 "nbformat_minor": 5
}
