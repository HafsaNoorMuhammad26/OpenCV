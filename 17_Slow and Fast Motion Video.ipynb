{
 "cells": [
  {
   "cell_type": "markdown",
   "id": "51f5538a-b573-4eff-872c-17de93f8c0a3",
   "metadata": {},
   "source": [
    "**17_Slow and Fast Motion Video**"
   ]
  },
  {
   "cell_type": "code",
   "execution_count": 5,
   "id": "7d5e5d29-9eda-4ee5-8186-ec5609e8bfc6",
   "metadata": {},
   "outputs": [],
   "source": [
    "import cv2"
   ]
  },
  {
   "cell_type": "code",
   "execution_count": 9,
   "id": "fa029f3d-6a88-4250-92fc-10bf59b164a4",
   "metadata": {},
   "outputs": [],
   "source": [
    "#Capture Video:\n",
    "cap = cv2.VideoCapture(r\"C:\\Users\\hp\\Videos\\Screen Recordings\\Screen Recording 2025-06-25 200809.mp4\")\n",
    "\n",
    "while cap.isOpened():\n",
    "    ret, frame = cap.read()\n",
    "    frame = cv2.resize(frame, (500,500))\n",
    "    if ret == True:\n",
    "        cv2.imshow(\"File Integrity App\", frame)\n",
    "        \n",
    "        ## if waitKey()<25--> fast video,\n",
    "        ##if waitKey>25--> slow video,\n",
    "        ##if waitKey(25)--> median(Normal),\n",
    "        ## or if waitKey(0)-->static means first frame of the video show only\n",
    "        if cv2.waitKey(40) & 0xff == ord(\"p\"):   \n",
    "            break\n",
    "    else:\n",
    "        break       # Frame not exists\n",
    "\n",
    "cap.release()\n",
    "cv2.destroyAllWindows()"
   ]
  },
  {
   "cell_type": "code",
   "execution_count": null,
   "id": "d31fdc05-fc05-41bc-8edb-2793727b1c00",
   "metadata": {},
   "outputs": [],
   "source": []
  }
 ],
 "metadata": {
  "kernelspec": {
   "display_name": "Python 3 (ipykernel)",
   "language": "python",
   "name": "python3"
  },
  "language_info": {
   "codemirror_mode": {
    "name": "ipython",
    "version": 3
   },
   "file_extension": ".py",
   "mimetype": "text/x-python",
   "name": "python",
   "nbconvert_exporter": "python",
   "pygments_lexer": "ipython3",
   "version": "3.12.4"
  }
 },
 "nbformat": 4,
 "nbformat_minor": 5
}
