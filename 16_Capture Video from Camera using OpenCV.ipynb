{
 "cells": [
  {
   "cell_type": "markdown",
   "id": "124bdc1e-9681-480c-9bb0-ae97cf44307c",
   "metadata": {},
   "source": [
    "**16_Capture Video from Camera using OpenCV**"
   ]
  },
  {
   "cell_type": "code",
   "execution_count": 1,
   "id": "99720a39-99b8-4a1f-bd25-2381119de419",
   "metadata": {},
   "outputs": [],
   "source": [
    "import cv2"
   ]
  },
  {
   "cell_type": "code",
   "execution_count": 6,
   "id": "f183a04e-eca1-4b0d-97b9-71ef984dae97",
   "metadata": {},
   "outputs": [],
   "source": [
    "cap = cv2.VideoCapture(0)    ## '0' for System Camera otherwise for External Camera's use '1'\n",
    "#For Continous time period:\n",
    "while True:\n",
    "    r, frame = cap.read()  # Two variables ---> bolean data(r) and frame(load image by frame/sec)\n",
    "    if r == True:\n",
    "        frame = cv2.resize(frame, (500,500))\n",
    "        cv2.imshow(\"Video\",frame)\n",
    "        if cv2.waitKey(25) & 0xff == ord(\"p\"):   ##In this cv2.waitKey(0) ---> makes frame static ## 0xff == ord(\"p\"): Press 'p' to close order = p\n",
    "            break\n",
    "    else:\n",
    "        break\n",
    "\n",
    "cap.release()\n",
    "cv2.destroyAllWindows()"
   ]
  },
  {
   "cell_type": "code",
   "execution_count": null,
   "id": "4518720b-1005-44fb-a26e-30f2e740dbf3",
   "metadata": {},
   "outputs": [],
   "source": []
  }
 ],
 "metadata": {
  "kernelspec": {
   "display_name": "Python 3 (ipykernel)",
   "language": "python",
   "name": "python3"
  },
  "language_info": {
   "codemirror_mode": {
    "name": "ipython",
    "version": 3
   },
   "file_extension": ".py",
   "mimetype": "text/x-python",
   "name": "python",
   "nbconvert_exporter": "python",
   "pygments_lexer": "ipython3",
   "version": "3.12.4"
  }
 },
 "nbformat": 4,
 "nbformat_minor": 5
}
