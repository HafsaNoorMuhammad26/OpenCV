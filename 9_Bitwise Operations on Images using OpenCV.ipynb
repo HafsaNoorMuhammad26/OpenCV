{
 "cells": [
  {
   "cell_type": "markdown",
   "id": "63ecdf0f-bd51-4c20-8906-cd459810b7fb",
   "metadata": {},
   "source": [
    "**9_Bitwise Operations on Images using OpenCV**"
   ]
  },
  {
   "cell_type": "code",
   "execution_count": 2,
   "id": "a41095b5-b925-414e-aaf5-6c726c5ac000",
   "metadata": {},
   "outputs": [],
   "source": [
    "import cv2\n",
    "import numpy as np"
   ]
  },
  {
   "cell_type": "code",
   "execution_count": 4,
   "id": "b81d6723-1b45-4829-a643-889d564fb461",
   "metadata": {},
   "outputs": [],
   "source": [
    "img1 = cv2.imread(r\"C:\\Users\\hp\\Documents\\jupyter\\OpenCV by WsCube Tech\\Binary Images\\black background white dots.jpg\")\n",
    "img2 = cv2.imread(r\"C:\\Users\\hp\\Documents\\jupyter\\OpenCV by WsCube Tech\\Binary Images\\white background black dots.jpg\")\n",
    "\n",
    "img1 = cv2.resize(img1, (150,150))\n",
    "img2 = cv2.resize(img2, (150,150))\n",
    "\n",
    "new_img = cv2.bitwise_and(img1, img2)\n",
    "new_img1 = cv2.bitwise_or(img1, img2)\n",
    "new_img2 = cv2.bitwise_not(img1, img2)\n",
    "new_img3 = cv2.bitwise_xor(img1, img2)\n",
    "\n",
    "h = np.hstack((img1, img2, new_img))\n",
    "h1 = np.hstack((img1, img2, new_img1))\n",
    "h2 = np.hstack((img1, img2, new_img2))\n",
    "h3 = np.hstack((img1, img2, new_img3))\n",
    "\n",
    "v = np.vstack((h, h1, h2, h3))\n",
    "\n",
    "cv2.imshow(\"BITWISE AND, OR, NOT, XOR\", v)\n",
    "\n",
    "cv2.waitKey(0)\n",
    "\n",
    "cv2.destroyAllWindows()"
   ]
  },
  {
   "cell_type": "code",
   "execution_count": null,
   "id": "16fcbdd7-1c4e-4756-aa3e-9c89d82500eb",
   "metadata": {},
   "outputs": [],
   "source": []
  }
 ],
 "metadata": {
  "kernelspec": {
   "display_name": "Python 3 (ipykernel)",
   "language": "python",
   "name": "python3"
  },
  "language_info": {
   "codemirror_mode": {
    "name": "ipython",
    "version": 3
   },
   "file_extension": ".py",
   "mimetype": "text/x-python",
   "name": "python",
   "nbconvert_exporter": "python",
   "pygments_lexer": "ipython3",
   "version": "3.12.4"
  }
 },
 "nbformat": 4,
 "nbformat_minor": 5
}
