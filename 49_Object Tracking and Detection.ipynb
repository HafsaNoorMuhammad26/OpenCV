{
 "cells": [
  {
   "cell_type": "markdown",
   "id": "fe26ad31-40c2-4ac0-80d0-7a2ecb8272db",
   "metadata": {},
   "source": [
    "**49_Object Tracking and Detection**"
   ]
  },
  {
   "cell_type": "markdown",
   "id": "c07f0ddc-bce1-4408-8ff4-0f8f9bfa331c",
   "metadata": {},
   "source": [
    "### For Notebook Visit --> [GitHub Repo](https://github.com/HafsaNoorMuhammad26/Object-Tracking-using-OpenCV-Python.git)"
   ]
  }
 ],
 "metadata": {
  "kernelspec": {
   "display_name": "Python 3 (ipykernel)",
   "language": "python",
   "name": "python3"
  },
  "language_info": {
   "codemirror_mode": {
    "name": "ipython",
    "version": 3
   },
   "file_extension": ".py",
   "mimetype": "text/x-python",
   "name": "python",
   "nbconvert_exporter": "python",
   "pygments_lexer": "ipython3",
   "version": "3.12.4"
  }
 },
 "nbformat": 4,
 "nbformat_minor": 5
}
