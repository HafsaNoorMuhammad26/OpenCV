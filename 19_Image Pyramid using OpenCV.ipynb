{
 "cells": [
  {
   "cell_type": "markdown",
   "id": "05efbab5-230a-47b7-9c4e-b44ae4351875",
   "metadata": {},
   "source": [
    "**19_Image Pyramid using OpenCV**"
   ]
  },
  {
   "cell_type": "markdown",
   "id": "71e7e228-7dea-4e8a-9bbb-e3167b3976db",
   "metadata": {},
   "source": [
    "**Image Pyramid**\n",
    "Work with images with default resolution but many times we need to change the resolution(lower it) or resize the original image in that case image pyramids comes handy."
   ]
  },
  {
   "cell_type": "code",
   "execution_count": 1,
   "id": "bac732f4-b370-4dc7-bf87-56965cb2f0b2",
   "metadata": {},
   "outputs": [],
   "source": [
    "import cv2"
   ]
  },
  {
   "cell_type": "code",
   "execution_count": 7,
   "id": "51e09e7f-0c3c-4cef-9ecc-9707f2846f2e",
   "metadata": {},
   "outputs": [],
   "source": [
    "img = cv2.imread(r\"C:\\Users\\hp\\Documents\\jupyter\\OpenCV by WsCube Tech\\Images\\Sana Javaid.jpg\")\n",
    "# img = cv2.resize(img, (500,500))\n",
    "\n",
    "\n",
    "\n",
    "cv2.imshow(\"w1\", img)\n",
    "cv2.waitKey(0)\n",
    "cv2.destroyAllWindows()"
   ]
  },
  {
   "cell_type": "code",
   "execution_count": 11,
   "id": "15310d9f-7ac4-4cf1-878d-ff9d77e94508",
   "metadata": {},
   "outputs": [
    {
     "name": "stdout",
     "output_type": "stream",
     "text": [
      "(1520, 720, 3)\n",
      "(760, 360, 3)\n",
      "(380, 180, 3)\n",
      "(190, 90, 3)\n"
     ]
    }
   ],
   "source": [
    "img = cv2.imread(r\"C:\\Users\\hp\\Documents\\jupyter\\OpenCV by WsCube Tech\\Images\\Sana Javaid.jpg\")\n",
    "print(img.shape)\n",
    "\n",
    "new = cv2.pyrDown(img)  #pi/2\n",
    "print(new.shape)\n",
    "\n",
    "new1 = cv2.pyrDown(new)  # pi/4\n",
    "print(new1.shape)\n",
    "\n",
    "new2 = cv2.pyrDown(new1)  # pi/8\n",
    "print(new2.shape)\n",
    "\n",
    "cv2.imshow(\"w1\", img)\n",
    "cv2.imshow(\"ws\", new)\n",
    "cv2.imshow(\"ws1\", new1)\n",
    "cv2.imshow(\"ws2\", new2)\n",
    "cv2.waitKey(0)\n",
    "cv2.destroyAllWindows()"
   ]
  },
  {
   "cell_type": "code",
   "execution_count": 13,
   "id": "771367cd-235d-41e4-8e20-9a636d2010f5",
   "metadata": {},
   "outputs": [
    {
     "name": "stdout",
     "output_type": "stream",
     "text": [
      "(235, 214, 3)\n",
      "(470, 428, 3)\n",
      "(940, 856, 3)\n",
      "(1880, 1712, 3)\n"
     ]
    }
   ],
   "source": [
    "img = cv2.imread(r\"C:\\Users\\hp\\Documents\\jupyter\\OpenCV by WsCube Tech\\Images\\Hania Amir.jpeg\")\n",
    "print(img.shape)\n",
    "\n",
    "new = cv2.pyrUp(img)  #pi/2\n",
    "print(new.shape)\n",
    "\n",
    "new1 = cv2.pyrUp(new)  # pi/4\n",
    "print(new1.shape)\n",
    "\n",
    "new2 = cv2.pyrUp(new1)  # pi/8\n",
    "print(new2.shape)\n",
    "\n",
    "cv2.imshow(\"w1\", img)\n",
    "cv2.imshow(\"ws\", new)\n",
    "cv2.imshow(\"ws1\", new1)\n",
    "cv2.imshow(\"ws2\", new2)\n",
    "cv2.waitKey(0)\n",
    "cv2.destroyAllWindows()"
   ]
  },
  {
   "cell_type": "code",
   "execution_count": null,
   "id": "7bf86e27-3cba-4592-991f-aeb2bf7cb010",
   "metadata": {},
   "outputs": [],
   "source": []
  }
 ],
 "metadata": {
  "kernelspec": {
   "display_name": "Python 3 (ipykernel)",
   "language": "python",
   "name": "python3"
  },
  "language_info": {
   "codemirror_mode": {
    "name": "ipython",
    "version": 3
   },
   "file_extension": ".py",
   "mimetype": "text/x-python",
   "name": "python",
   "nbconvert_exporter": "python",
   "pygments_lexer": "ipython3",
   "version": "3.12.4"
  }
 },
 "nbformat": 4,
 "nbformat_minor": 5
}
