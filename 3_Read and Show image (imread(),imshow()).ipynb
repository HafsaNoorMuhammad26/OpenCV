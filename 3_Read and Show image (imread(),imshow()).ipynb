{
 "cells": [
  {
   "cell_type": "markdown",
   "id": "fd7657b3-bb90-47ee-b250-41330ae90f30",
   "metadata": {},
   "source": [
    "**3_Read and Show image (imread(),imshow())**"
   ]
  },
  {
   "cell_type": "code",
   "execution_count": 2,
   "id": "110140b8-af24-4af5-9f00-bacb2c710c85",
   "metadata": {},
   "outputs": [],
   "source": [
    "import cv2"
   ]
  },
  {
   "cell_type": "code",
   "execution_count": 5,
   "id": "4507f96e-6a77-46a1-a305-31c46c37f030",
   "metadata": {},
   "outputs": [
    {
     "name": "stdout",
     "output_type": "stream",
     "text": [
      "(427, 640, 3)\n"
     ]
    }
   ],
   "source": [
    "img = cv2.imread(r\"C:\\Users\\hp\\Documents\\jupyter\\OpenCV by WsCube Tech\\Images\\bird.jpg\", 1) #  flag = 1 shows rgb image---rgb == bgr  --->  (0-255, 0-255, 0-255)\n",
    "\n",
    "\n",
    "# Get image pixels:\n",
    "print(img.shape) # chanel ki shape btata hai with pixel -- result --> (427, 640, 3) shape 427 into 640 color pixels and 3 color chanels\n",
    "\n",
    "img = cv2.resize(img, (500, 500))\n",
    "cv2.imshow(\"Win1\", img)\n",
    "cv2.waitKey(0)\n",
    "cv2.destroyAllWindows()"
   ]
  },
  {
   "cell_type": "code",
   "execution_count": 6,
   "id": "e6f6fbab-5620-4f22-96a1-7bc67b1d1396",
   "metadata": {},
   "outputs": [
    {
     "name": "stdout",
     "output_type": "stream",
     "text": [
      "(427, 640, 3)\n"
     ]
    }
   ],
   "source": [
    "img = cv2.imread(r\"C:\\Users\\hp\\Documents\\jupyter\\OpenCV by WsCube Tech\\Images\\bird.jpg\", -1) #  flag = -1 shows alphaparameter work\n",
    "# Get image pixels:\n",
    "print(img.shape) # chanel ki shape btata hai with pixel -- result --> (427, 640, 3) shape 427 into 640 color pixels and 3 color chanels\n",
    "\n",
    "img = cv2.resize(img, (500, 500))\n",
    "cv2.imshow(\"Win1\", img)\n",
    "cv2.waitKey(0)\n",
    "cv2.destroyAllWindows()"
   ]
  },
  {
   "cell_type": "code",
   "execution_count": 7,
   "id": "70c46c19-2d30-4d17-88cc-608b49067b2a",
   "metadata": {},
   "outputs": [
    {
     "name": "stdout",
     "output_type": "stream",
     "text": [
      "(427, 640)\n"
     ]
    }
   ],
   "source": [
    "img = cv2.imread(r\"C:\\Users\\hp\\Documents\\jupyter\\OpenCV by WsCube Tech\\Images\\bird.jpg\", 0) #  flag = 0 shows grayscale image \n",
    "# Get image pixels:\n",
    "print(img.shape) # chanel ki shape btata hai with pixel -- result --> (427, 640, 3) shape 427 into 640 color pixels and 0 color chanels in grayscale image\n",
    "\n",
    "img = cv2.resize(img, (500, 500))\n",
    "cv2.imshow(\"Win1\", img)\n",
    "cv2.waitKey(0)\n",
    "cv2.destroyAllWindows()"
   ]
  },
  {
   "cell_type": "code",
   "execution_count": null,
   "id": "25f4d380-6595-4a0d-a90f-9683266b484a",
   "metadata": {},
   "outputs": [],
   "source": []
  },
  {
   "cell_type": "code",
   "execution_count": null,
   "id": "140fbccd-983f-4efb-8502-9454c8c18c84",
   "metadata": {},
   "outputs": [],
   "source": []
  },
  {
   "cell_type": "code",
   "execution_count": null,
   "id": "042f35b6-631f-4bb9-8859-9ca4d1b2a502",
   "metadata": {},
   "outputs": [],
   "source": []
  },
  {
   "cell_type": "code",
   "execution_count": null,
   "id": "43e67532-69b3-4c2f-a088-7e52e3de3933",
   "metadata": {},
   "outputs": [],
   "source": []
  }
 ],
 "metadata": {
  "kernelspec": {
   "display_name": "Python 3 (ipykernel)",
   "language": "python",
   "name": "python3"
  },
  "language_info": {
   "codemirror_mode": {
    "name": "ipython",
    "version": 3
   },
   "file_extension": ".py",
   "mimetype": "text/x-python",
   "name": "python",
   "nbconvert_exporter": "python",
   "pygments_lexer": "ipython3",
   "version": "3.12.4"
  }
 },
 "nbformat": 4,
 "nbformat_minor": 5
}
