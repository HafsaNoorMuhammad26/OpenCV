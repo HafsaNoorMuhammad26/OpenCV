{
 "cells": [
  {
   "cell_type": "markdown",
   "id": "55eee6db-d1fa-433d-b20a-9b471b170c2c",
   "metadata": {},
   "source": [
    "**39_Mouse Event Bindings using OpenCV Python**"
   ]
  },
  {
   "cell_type": "code",
   "execution_count": 13,
   "id": "0c340555-17ad-4040-bc72-eb6ce5646741",
   "metadata": {},
   "outputs": [],
   "source": [
    "import cv2\n",
    "import numpy as np"
   ]
  },
  {
   "cell_type": "code",
   "execution_count": 14,
   "id": "2d093024-cfc9-40c6-899f-5ccda4c8bef5",
   "metadata": {},
   "outputs": [],
   "source": [
    "# A function that mouse can performs events, coordinates, flags and parameters\n",
    "def python(event,x,y,f,p):\n",
    "    if event == cv2.EVENT_LBUTTONDOWN:\n",
    "        cv2.circle(img,(x,y),5,(0,0,255),4)\n",
    "    elif event == cv2.EVENT_RBUTTONDOWN:\n",
    "        cv2.rectangle(img,(x,y),(x+20,y+20),(255,0,0),4)\n",
    "\n",
    "# Mouse event\n",
    "# First design window\n",
    "cv2.namedWindow(\"New Window\")\n",
    "img = np.ones((600,600,3), np.uint8)*255\n",
    "cv2.setMouseCallback(\"New Window\", python)\n",
    "\n",
    "while True:\n",
    "    cv2.imshow(\"New Window\",img)\n",
    "    if cv2.waitKey(25) & 0xff == ord(\"p\"):\n",
    "        break\n",
    "\n",
    "cv2.destroyAllWindows()"
   ]
  },
  {
   "cell_type": "code",
   "execution_count": 3,
   "id": "f0b1e0e6-4b3a-4380-9a3c-feceb7d4b1aa",
   "metadata": {},
   "outputs": [],
   "source": []
  },
  {
   "cell_type": "code",
   "execution_count": null,
   "id": "8bbe2b0b-9688-4ff5-9870-d58cd024b6a3",
   "metadata": {},
   "outputs": [],
   "source": []
  }
 ],
 "metadata": {
  "kernelspec": {
   "display_name": "Python 3 (ipykernel)",
   "language": "python",
   "name": "python3"
  },
  "language_info": {
   "codemirror_mode": {
    "name": "ipython",
    "version": 3
   },
   "file_extension": ".py",
   "mimetype": "text/x-python",
   "name": "python",
   "nbconvert_exporter": "python",
   "pygments_lexer": "ipython3",
   "version": "3.12.4"
  }
 },
 "nbformat": 4,
 "nbformat_minor": 5
}
