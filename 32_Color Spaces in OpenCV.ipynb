{
 "cells": [
  {
   "cell_type": "markdown",
   "id": "3aabfa50-3bd7-4c13-82ea-83c1adf0dde9",
   "metadata": {},
   "source": [
    "**32_Color Spaces in OpenCV**"
   ]
  },
  {
   "cell_type": "markdown",
   "id": "951dfe35-9a13-4a90-9173-a5c3dcc492e6",
   "metadata": {},
   "source": [
    "**OpenCV Image**\n",
    "\n",
    "**Color Spaces** are a way to represent the color channels present in the image that gives the image that particular hue.\n",
    "- RGB (Red, Green, Blue)\n",
    "- CMYK (Cyan, Magenta, Yellow, Black)\n",
    "- HSV (Hue, Saturation, Value)"
   ]
  },
  {
   "cell_type": "markdown",
   "id": "2f84b390-3418-44e0-bd93-558601eef82a",
   "metadata": {},
   "source": [
    "**BGR color space** OpenCV's default color space is RGB.\n",
    "\n",
    "**HSV color space** It stores color information in a cylindrical representation of RGB color points.\n",
    "\n",
    "Hue value varies from 0-179, Saturation value varies from 0-255 and value varies from 0-255.\n",
    "\n",
    "**CMYK color space** Unlike, RGB it is a subtractive color space. The CMYK model works by partially or entirely masking colors on a lighter, usually white background."
   ]
  },
  {
   "cell_type": "code",
   "execution_count": null,
   "id": "f13fd7fd-9bfb-47bb-a78d-402dfb87a23b",
   "metadata": {},
   "outputs": [],
   "source": []
  }
 ],
 "metadata": {
  "kernelspec": {
   "display_name": "Python 3 (ipykernel)",
   "language": "python",
   "name": "python3"
  },
  "language_info": {
   "codemirror_mode": {
    "name": "ipython",
    "version": 3
   },
   "file_extension": ".py",
   "mimetype": "text/x-python",
   "name": "python",
   "nbconvert_exporter": "python",
   "pygments_lexer": "ipython3",
   "version": "3.12.4"
  }
 },
 "nbformat": 4,
 "nbformat_minor": 5
}
