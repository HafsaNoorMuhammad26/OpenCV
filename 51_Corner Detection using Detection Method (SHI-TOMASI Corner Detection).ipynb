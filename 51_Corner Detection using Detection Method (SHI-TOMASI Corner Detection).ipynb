{
 "cells": [
  {
   "cell_type": "markdown",
   "id": "40243868-6143-4b3b-84c3-a6bf9cf76a28",
   "metadata": {},
   "source": [
    "**51_Corner Detection using Detection Method (SHI-TOMASI Corner Detection)**"
   ]
  },
  {
   "cell_type": "markdown",
   "id": "191bd7b5-a7b9-4f55-aee5-f3b43c2cfff8",
   "metadata": {},
   "source": [
    "**Shi-Tomasi Corner Detection** was published by J.Shi and C.Tomassi in their paper 'Good Features to Track'.\n",
    "\n",
    "Here the basic intuition is that corners can be detected by looking for significant change in all direction."
   ]
  },
  {
   "cell_type": "code",
   "execution_count": 20,
   "id": "b3506455-cffa-4125-9ae8-1b15340fe8f8",
   "metadata": {},
   "outputs": [],
   "source": [
    "import cv2\n",
    "import numpy as np"
   ]
  },
  {
   "cell_type": "code",
   "execution_count": 22,
   "id": "22db680b-050a-4ccf-95a7-dfee8989cbbf",
   "metadata": {},
   "outputs": [],
   "source": [
    "img = cv2.imread(r\"C:\\Users\\hp\\Documents\\jupyter\\OpenCV by WsCube Tech\\Images\\sh1.jpg\")\n",
    "img = cv2.resize(img,(600,600))\n",
    "\n",
    "gray = cv2.cvtColor(img,cv2.COLOR_BGR2GRAY)\n",
    "\n",
    "#Tracking points\n",
    "##Detect corner points\n",
    "cr = cv2.goodFeaturesToTrack(gray,33,0.01,20)   ##Shi-Tomasi\n",
    "#print(cr) ##cr --> type==float\n",
    "\n",
    "##need int type\n",
    "##convert into int:\n",
    "cr = np.int64(cr)\n",
    "#print(cr) ##cr --> type==int   --> we now have all corner points(coordinates)\n",
    "\n",
    "##Now get the given coordinates and place the circle \n",
    "for i in cr:\n",
    "    x,y = i.ravel()  ##ravel()-->2D data converted into 1D data\n",
    "    cv2.circle(img,(x,y),5,(0,0,255),-1)\n",
    "\n",
    "cv2.imshow(\"W1\",img)\n",
    "cv2.waitKey(0)\n",
    "cv2.destroyAllWindows()"
   ]
  },
  {
   "cell_type": "code",
   "execution_count": null,
   "id": "64b2c0d7-964f-4d2e-b53d-6b6a4c2746a2",
   "metadata": {},
   "outputs": [],
   "source": []
  },
  {
   "cell_type": "code",
   "execution_count": null,
   "id": "a225e27c-e30b-4067-a5f1-13fa4c1714ea",
   "metadata": {},
   "outputs": [],
   "source": []
  }
 ],
 "metadata": {
  "kernelspec": {
   "display_name": "Python 3 (ipykernel)",
   "language": "python",
   "name": "python3"
  },
  "language_info": {
   "codemirror_mode": {
    "name": "ipython",
    "version": 3
   },
   "file_extension": ".py",
   "mimetype": "text/x-python",
   "name": "python",
   "nbconvert_exporter": "python",
   "pygments_lexer": "ipython3",
   "version": "3.12.4"
  }
 },
 "nbformat": 4,
 "nbformat_minor": 5
}
