{
 "cells": [
  {
   "cell_type": "markdown",
   "id": "1cff48f0-61ec-416a-a3b1-e9f57d69ffbb",
   "metadata": {},
   "source": [
    "**31_Saving a Video using OpenCV**"
   ]
  },
  {
   "cell_type": "code",
   "execution_count": 1,
   "id": "32fc438f-5f21-4b81-8dd9-efcee23a8b5c",
   "metadata": {},
   "outputs": [],
   "source": [
    "import cv2"
   ]
  },
  {
   "cell_type": "code",
   "execution_count": 7,
   "id": "d3e4a821-1314-4ebb-9a51-d594626f1b64",
   "metadata": {},
   "outputs": [],
   "source": [
    "cap = cv2.VideoCapture(0)\n",
    "#record video\n",
    "f = cv2.VideoWriter_fourcc(*\"XVID\") # for normal video recording\n",
    "# out = cv2.VideoWriter(\"demo.mp4\",f,40.0,(640,480)) # for rgb channel --- > 40 for frame/sec,  (640,480) is pixels\n",
    "out = cv2.VideoWriter(\"demo.mp4\",f,40.0,(640,480), 0) # for gray chanel add 0\n",
    "\n",
    "while cap.isOpened():\n",
    "    r,frame = cap.read()   #data capture\n",
    "    if r == True:\n",
    "        frame = cv2.cvtColor(frame,cv2.COLOR_BGR2GRAY) # Used to convert rgb video to gray\n",
    "        frame = cv2.flip(frame,1)\n",
    "        out.write(frame)\n",
    "        cv2.imshow(\"W1\",frame)\n",
    "        if cv2.waitKey(1) & 0xff == ord(\"p\"):\n",
    "            break\n",
    "    else:\n",
    "        break\n",
    "\n",
    "cap.release()\n",
    "out.release()\n",
    "cv2.destroyAllWindows()"
   ]
  },
  {
   "cell_type": "code",
   "execution_count": null,
   "id": "a066162e-69fb-4dbb-8e6b-3fe461c1930b",
   "metadata": {},
   "outputs": [],
   "source": []
  }
 ],
 "metadata": {
  "kernelspec": {
   "display_name": "Python 3 (ipykernel)",
   "language": "python",
   "name": "python3"
  },
  "language_info": {
   "codemirror_mode": {
    "name": "ipython",
    "version": 3
   },
   "file_extension": ".py",
   "mimetype": "text/x-python",
   "name": "python",
   "nbconvert_exporter": "python",
   "pygments_lexer": "ipython3",
   "version": "3.12.4"
  }
 },
 "nbformat": 4,
 "nbformat_minor": 5
}
