{
 "cells": [
  {
   "cell_type": "markdown",
   "id": "ea2c85aa-8f21-4004-8e8c-a53049d0eeb5",
   "metadata": {},
   "source": [
    "**CVTCOLOR Method OpenCV**"
   ]
  },
  {
   "cell_type": "code",
   "execution_count": 1,
   "id": "c811a184-29b2-43db-a8da-56fb68f945d1",
   "metadata": {},
   "outputs": [],
   "source": [
    "import cv2"
   ]
  },
  {
   "cell_type": "code",
   "execution_count": 9,
   "id": "63c3a93d-851f-4527-890d-5399b0bba37f",
   "metadata": {},
   "outputs": [],
   "source": [
    "org = cv2.imread(r\"C:\\Users\\hp\\Documents\\jupyter\\OpenCV by WsCube Tech\\Images\\Sana Javaid.jpg\")\n",
    "org = cv2.resize(org, (500,500))\n",
    "\n",
    "new = cv2.cvtColor(org, cv2.COLOR_BGR2GRAY)\n",
    "hsv = cv2.cvtColor(org, cv2.COLOR_BGR2HSV)\n",
    "hls = cv2.cvtColor(org, cv2.COLOR_BGR2HLS)\n",
    "\n",
    "cv2.imshow(\"W1\", org)\n",
    "cv2.imshow(\"W2\", new)\n",
    "cv2.imshow(\"W3\", hsv)\n",
    "cv2.imshow(\"W4\", hls)\n",
    "cv2.waitKey(0)\n",
    "cv2.destroyAllWindows()"
   ]
  },
  {
   "cell_type": "code",
   "execution_count": null,
   "id": "89bd6601-cdeb-47f6-947a-6047bedc088c",
   "metadata": {},
   "outputs": [],
   "source": []
  }
 ],
 "metadata": {
  "kernelspec": {
   "display_name": "Python 3 (ipykernel)",
   "language": "python",
   "name": "python3"
  },
  "language_info": {
   "codemirror_mode": {
    "name": "ipython",
    "version": 3
   },
   "file_extension": ".py",
   "mimetype": "text/x-python",
   "name": "python",
   "nbconvert_exporter": "python",
   "pygments_lexer": "ipython3",
   "version": "3.12.4"
  }
 },
 "nbformat": 4,
 "nbformat_minor": 5
}
