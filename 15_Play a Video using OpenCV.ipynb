{
 "cells": [
  {
   "cell_type": "markdown",
   "id": "7e26cf48-853d-4497-8c9c-5e5c2533ced6",
   "metadata": {},
   "source": [
    "**15_Play a Video using OpenCV**"
   ]
  },
  {
   "cell_type": "code",
   "execution_count": 1,
   "id": "4769ca68-4d7c-4761-bba2-7b46e5f3c035",
   "metadata": {},
   "outputs": [],
   "source": [
    "import cv2\n"
   ]
  },
  {
   "cell_type": "code",
   "execution_count": null,
   "id": "3c83cc92-d0c9-410e-b48a-d7d4d8f3f6e0",
   "metadata": {},
   "outputs": [],
   "source": [
    "cap = cv2.VideoCapture(r\"C:\\Users\\hp\\Videos\\Screen Recordings\\Screen Recording 2025-06-25 200809.mp4\")\n",
    "\n",
    "#Check video is open or not:\n",
    "while cap.isOpened():\n",
    "    r, frame = cap.read()      # Two variables ---> bolean data(r) and frame(load image by frame/sec)\n",
    "    if r == True:\n",
    "        frame = cv2.resize(frame, (600,500))\n",
    "        cv2.imshow(\"File Integrity App\", frame)\n",
    "        if cv2.waitKey(25) & 0xff == ord(\"p\"):      #In this cv2.waitKey(0) ---> makes frame static \n",
    "            break\n",
    "    else:\n",
    "        break\n",
    "\n",
    "\n",
    "#For releasing video\n",
    "cap.release()\n",
    "\n",
    "cv2.destroyAllWindows()\n",
    "#For Continous time period"
   ]
  },
  {
   "cell_type": "code",
   "execution_count": null,
   "id": "c5f1275a-9285-417d-a60c-876f46f76e15",
   "metadata": {},
   "outputs": [],
   "source": []
  }
 ],
 "metadata": {
  "kernelspec": {
   "display_name": "Python 3 (ipykernel)",
   "language": "python",
   "name": "python3"
  },
  "language_info": {
   "codemirror_mode": {
    "name": "ipython",
    "version": 3
   },
   "file_extension": ".py",
   "mimetype": "text/x-python",
   "name": "python",
   "nbconvert_exporter": "python",
   "pygments_lexer": "ipython3",
   "version": "3.12.4"
  }
 },
 "nbformat": 4,
 "nbformat_minor": 5
}
