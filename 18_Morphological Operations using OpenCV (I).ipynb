{
 "cells": [
  {
   "cell_type": "markdown",
   "id": "e2e7f3ba-7cb1-4c48-a392-5b57c09a4f9b",
   "metadata": {},
   "source": [
    "**18_Morphological Operations using OpenCV (I)**"
   ]
  },
  {
   "cell_type": "markdown",
   "id": "92000a0b-0d8a-4ea2-958d-10895a2684a1",
   "metadata": {},
   "source": [
    "- Morphological Operations are used to extract image components that are useful in the representation and description of region shape\n",
    "- It is typically performed on binary images"
   ]
  },
  {
   "cell_type": "markdown",
   "id": "705b5331-6dbe-4223-9fa4-422df5117b42",
   "metadata": {},
   "source": [
    "The morphological operations we'll be covering include:\n",
    "- Erosion\n",
    "- Dilation\n",
    "- Opening\n",
    "- Closing\n",
    "- Morphological gradient\n",
    "- Black Hat\n",
    "- Top Hat(also called \"White Hat\")"
   ]
  },
  {
   "cell_type": "markdown",
   "id": "8f6318cd-5276-4208-9009-e72a83d993e0",
   "metadata": {},
   "source": [
    "**Erosion**\n",
    "- It erodes away the boundaries of foreground object (Always try to keep foreground in white),\n",
    "- The kernel slides through the image (as in 2D convolution).\n",
    "- A pixel in the original image (either 1 or 0) will be will be considered 1 only if all the pixels under kernel is 1, otherwise it is eroded (made to zero).\n",
    "- Erosion removes white noises"
   ]
  },
  {
   "cell_type": "markdown",
   "id": "0b228891-ccde-43e1-b73e-4df92c200278",
   "metadata": {},
   "source": [
    "**Dilation**\n",
    "- A pixel element is '1' if at least one pixel under the kernel is '1'. So it increases the white region in the image or size of foreground object increases.\n",
    "- Normally, in cases like noise removal, erosion is followed by dilation. Because erosion removes white noises, but it also shrinks our object. "
   ]
  },
  {
   "cell_type": "markdown",
   "id": "93ff0e0c-f1b5-49c8-8c84-91b84eac5987",
   "metadata": {},
   "source": [
    "**Opening**\n",
    "- Opening is just another name of erosion followed by by dilation.\n",
    "- It is useful in removing noise."
   ]
  },
  {
   "cell_type": "markdown",
   "id": "866edbb9-b427-42b7-bc9d-9347e3f72e79",
   "metadata": {},
   "source": [
    "**Closing**\n",
    "- Closing is reverse of Opening, Dilation followed by erosion.\n",
    "- It is useful in closing small holes inside the foreground objects, or small black points on the object"
   ]
  },
  {
   "cell_type": "markdown",
   "id": "cda57dfb-1057-42fc-93c4-0bec4f8dc35f",
   "metadata": {},
   "source": [
    "**Morphological Gradient**\n",
    "- It is the difference between dilation and erosion of an image."
   ]
  },
  {
   "attachments": {},
   "cell_type": "markdown",
   "id": "645c69db-1348-46da-a548-8fdffba715bf",
   "metadata": {},
   "source": [
    "**Top Hat**\n",
    "- It is the difference between input image and Opening of the image."
   ]
  },
  {
   "cell_type": "markdown",
   "id": "aaa3f83e-cba8-4a12-8348-5879d9c26fae",
   "metadata": {},
   "source": [
    "**Black Hat**\n",
    "- It is the difference between the closing of the input image and input image."
   ]
  },
  {
   "cell_type": "code",
   "execution_count": 2,
   "id": "34725c69-f876-4a96-872d-c4920b68a195",
   "metadata": {},
   "outputs": [],
   "source": [
    "import cv2\n",
    "import numpy as np"
   ]
  },
  {
   "cell_type": "code",
   "execution_count": 3,
   "id": "13c100fc-6b57-4775-ac67-bab7923fb104",
   "metadata": {},
   "outputs": [],
   "source": [
    "img = cv2.imread(r\"C:\\Users\\hp\\Documents\\jupyter\\OpenCV by WsCube Tech\\Binary Images\\j.jpg\")\n",
    "img = cv2.resize(img, (500,500))\n",
    "\n",
    "#create mask/matrix\n",
    "m = np.ones((15,15), np.int8)\n",
    "\n",
    "## Erosion\n",
    "# er = cv2.erode(img, m, iterations=1)\n",
    "\n",
    "## Dilation\n",
    "di = cv2.dilate(img, m, iterations=1)\n",
    "\n",
    "cv2.imshow(\"W1\", img)\n",
    "# cv2.imshow(\"Ws1\", er)  # Erosion image show\n",
    "cv2.imshow(\"Ws1\", di)    # Dilation image show\n",
    "cv2.waitKey(0)\n",
    "cv2.destroyAllWindows()"
   ]
  },
  {
   "cell_type": "code",
   "execution_count": null,
   "id": "43d28f9b-2494-4ba0-b5d2-b05c9c0a6e04",
   "metadata": {},
   "outputs": [],
   "source": []
  }
 ],
 "metadata": {
  "kernelspec": {
   "display_name": "Python 3 (ipykernel)",
   "language": "python",
   "name": "python3"
  },
  "language_info": {
   "codemirror_mode": {
    "name": "ipython",
    "version": 3
   },
   "file_extension": ".py",
   "mimetype": "text/x-python",
   "name": "python",
   "nbconvert_exporter": "python",
   "pygments_lexer": "ipython3",
   "version": "3.12.4"
  }
 },
 "nbformat": 4,
 "nbformat_minor": 5
}
