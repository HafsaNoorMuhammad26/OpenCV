{
 "cells": [
  {
   "cell_type": "markdown",
   "id": "f59b4fbd-2c85-4c2c-8c37-8ce510dcb9c2",
   "metadata": {},
   "source": [
    "**48_Video Background Removal using Algorithm**"
   ]
  },
  {
   "cell_type": "code",
   "execution_count": 1,
   "id": "a659150f-bfa6-4f36-8394-c5d5ea52f08b",
   "metadata": {},
   "outputs": [],
   "source": [
    "import cv2"
   ]
  },
  {
   "cell_type": "code",
   "execution_count": 4,
   "id": "67b65f3b-4c53-4d0c-b13e-94996e033ffd",
   "metadata": {},
   "outputs": [],
   "source": [
    "#Play Video\n",
    "cap = cv2.VideoCapture(r\"C:\\Users\\hp\\Documents\\jupyter\\OpenCV by WsCube Tech\\Videos\\A man running - side view - Animation reference [w_g1i6tzNGk].f313.webm\")\n",
    "\n",
    "while True:\n",
    "    r,frame = cap.read()\n",
    "    if r == True:\n",
    "        frame = cv2.resize(frame,(500,400))\n",
    "        cv2.imshow(\"Video\",frame)\n",
    "        if cv2.waitKey(25) & 0xff == ord(\"p\"):\n",
    "            break\n",
    "    else:\n",
    "        break\n",
    "\n",
    "cap.release()\n",
    "cv2.destroyAllWindows()"
   ]
  },
  {
   "cell_type": "code",
   "execution_count": 7,
   "id": "1b6efbc7-91d8-4e87-8df7-66754c62f53e",
   "metadata": {},
   "outputs": [],
   "source": [
    "cap = cv2.VideoCapture(r\"C:\\Users\\hp\\Documents\\jupyter\\OpenCV by WsCube Tech\\Videos\\A man running - side view - Animation reference [w_g1i6tzNGk].f313.webm\")\n",
    "\n",
    "#Algorithm\n",
    "algo1 = cv2.createBackgroundSubtractorKNN(detectShadows=True)\n",
    "algo2 = cv2.createBackgroundSubtractorMOG2(detectShadows=True)\n",
    "\n",
    "while True:\n",
    "    r,frame = cap.read()\n",
    "    if r == True:\n",
    "        frame = cv2.resize(frame,(500,400))\n",
    "        r1 = algo1.apply(frame)\n",
    "        r2 = algo2.apply(frame)\n",
    "\n",
    "        cv2.imshow(\"Algo1\",r1)\n",
    "        cv2.imshow(\"Algo2\",r2)\n",
    "        cv2.imshow(\"Video\",frame)\n",
    "        if cv2.waitKey(40) & 0xff == ord(\"p\"):\n",
    "            break\n",
    "    else:\n",
    "        break\n",
    "\n",
    "cap.release()\n",
    "cv2.destroyAllWindows()"
   ]
  },
  {
   "cell_type": "code",
   "execution_count": null,
   "id": "7add4b58-8b34-4b81-af99-8a5cdd26158d",
   "metadata": {},
   "outputs": [],
   "source": []
  }
 ],
 "metadata": {
  "kernelspec": {
   "display_name": "Python 3 (ipykernel)",
   "language": "python",
   "name": "python3"
  },
  "language_info": {
   "codemirror_mode": {
    "name": "ipython",
    "version": 3
   },
   "file_extension": ".py",
   "mimetype": "text/x-python",
   "name": "python",
   "nbconvert_exporter": "python",
   "pygments_lexer": "ipython3",
   "version": "3.12.4"
  }
 },
 "nbformat": 4,
 "nbformat_minor": 5
}
