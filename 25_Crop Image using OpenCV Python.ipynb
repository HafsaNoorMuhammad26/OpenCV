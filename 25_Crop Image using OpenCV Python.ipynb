{
 "cells": [
  {
   "cell_type": "markdown",
   "id": "00f344dd-2238-4969-95cc-50f76caf4a1c",
   "metadata": {},
   "source": [
    "**25_Crop Image using OpenCV Python**"
   ]
  },
  {
   "cell_type": "code",
   "execution_count": 1,
   "id": "62416b43-a2b0-40c9-95c3-50074d24138e",
   "metadata": {},
   "outputs": [],
   "source": [
    "import cv2"
   ]
  },
  {
   "cell_type": "code",
   "execution_count": 5,
   "id": "c2778978-f78e-4ce9-bc41-a9d4a082566c",
   "metadata": {},
   "outputs": [
    {
     "name": "stdout",
     "output_type": "stream",
     "text": [
      "(600, 500, 3)\n"
     ]
    }
   ],
   "source": [
    "org = cv2.imread(r\"C:\\Users\\hp\\Documents\\jupyter\\OpenCV by WsCube Tech\\Images\\Sana Javaid.jpg\")\n",
    "org = cv2.resize(org, (500,600))\n",
    "print(org.shape)  #show pixels\n",
    "#[y1:y2 , x1:x2  ]\n",
    "\n",
    "crop = org[120:180,200:400]\n",
    "\n",
    "\n",
    "cv2.imshow(\"W1\", org)\n",
    "cv2.imshow(\"Crop\", crop)\n",
    "cv2.waitKey(0)\n",
    "cv2.destroyAllWindows()"
   ]
  },
  {
   "cell_type": "code",
   "execution_count": null,
   "id": "d2a37edc-20fc-478c-8048-a7e65b9d645b",
   "metadata": {},
   "outputs": [],
   "source": []
  }
 ],
 "metadata": {
  "kernelspec": {
   "display_name": "Python 3 (ipykernel)",
   "language": "python",
   "name": "python3"
  },
  "language_info": {
   "codemirror_mode": {
    "name": "ipython",
    "version": 3
   },
   "file_extension": ".py",
   "mimetype": "text/x-python",
   "name": "python",
   "nbconvert_exporter": "python",
   "pygments_lexer": "ipython3",
   "version": "3.12.4"
  }
 },
 "nbformat": 4,
 "nbformat_minor": 5
}
