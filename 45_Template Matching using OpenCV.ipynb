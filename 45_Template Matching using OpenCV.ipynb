{
 "cells": [
  {
   "cell_type": "markdown",
   "id": "073c7f06-9762-4f1f-9080-f4f1f4679eab",
   "metadata": {},
   "source": [
    "**45_Template Matching using OpenCV**"
   ]
  },
  {
   "cell_type": "code",
   "execution_count": 43,
   "id": "90a2bb14-fab3-4577-b896-fb089b7f11a3",
   "metadata": {},
   "outputs": [],
   "source": [
    "import cv2\n",
    "import numpy as np"
   ]
  },
  {
   "cell_type": "code",
   "execution_count": 44,
   "id": "fa7b34b5-229d-42ac-afa6-3c37f83dc541",
   "metadata": {},
   "outputs": [],
   "source": [
    "img = cv2.imread(r\"C:\\Users\\hp\\Documents\\jupyter\\OpenCV by WsCube Tech\\Images\\group.jpg\")\n",
    "img = cv2.resize(img,(500,400))\n",
    "gray = cv2.cvtColor(img, cv2.COLOR_BGR2GRAY)\n",
    "\n",
    "temp = cv2.imread(r\"C:\\Users\\hp\\Documents\\jupyter\\OpenCV by WsCube Tech\\Images\\c22.jpg\")\n",
    "gray1 = cv2.cvtColor(temp, cv2.COLOR_BGR2GRAY)\n",
    "\n",
    "#Design a rectangle to find out temp image\n",
    "# print(gray1.shape)           # (141, 87)\n",
    "\n",
    "##First find heigh and width\n",
    "\n",
    "w,h = gray1.shape[::-1]\n",
    "\n",
    "#For search use template matching\n",
    "res = cv2.matchTemplate(gray,gray1,cv2.TM_CCOEFF_NORMED)\n",
    "# print(res)   # Black area points\n",
    "\n",
    "#Use Threshold value\n",
    "thr = 0.8\n",
    "\n",
    "\n",
    "l =np.where(res>=thr)\n",
    "# print(l)\n",
    "\n",
    "for i in zip(*l[::-1]):\n",
    "    cv2.rectangle(img,i,(i[0]+w,i[1]+h),(0,0,255),2)\n",
    "\n",
    "\n",
    "\n",
    "# cv2.imshow(\"W\",res)\n",
    "cv2.imshow(\"Group Image\", img)\n",
    "cv2.imshow(\"Template Image\", temp)\n",
    "cv2.waitKey(0)\n",
    "cv2.destroyAllWindows()"
   ]
  },
  {
   "cell_type": "markdown",
   "id": "f4378746-fefd-4767-80aa-8413c081b8f0",
   "metadata": {},
   "source": [
    "###### w,h = gray1.shape[::-1]\n",
    "w,h"
   ]
  },
  {
   "cell_type": "code",
   "execution_count": 21,
   "id": "110d7316-f71c-4ba4-8239-23fecdcf2f06",
   "metadata": {},
   "outputs": [
    {
     "name": "stdout",
     "output_type": "stream",
     "text": [
      "(array([  0,   0,   0, ..., 328, 328, 328], dtype=int64), array([  0,   1,   2, ..., 435, 436, 437], dtype=int64))\n"
     ]
    }
   ],
   "source": [
    "print(l)"
   ]
  },
  {
   "cell_type": "code",
   "execution_count": 115,
   "id": "c364ecb2-6ec8-4465-b3a9-438a7e0a9668",
   "metadata": {},
   "outputs": [
    {
     "name": "stdout",
     "output_type": "stream",
     "text": [
      "[[0.9560233  0.9564044  0.9568793  ... 0.9640425  0.96466285 0.96521807]\n",
      " [0.9559856  0.9564118  0.9568911  ... 0.96407455 0.9647021  0.9651801 ]\n",
      " [0.9559763  0.9564084  0.9568908  ... 0.9641831  0.9646816  0.9651388 ]\n",
      " ...\n",
      " [0.81218743 0.80901825 0.80565214 ... 0.8803291  0.88236815 0.8843359 ]\n",
      " [0.81237864 0.80955297 0.8058777  ... 0.8799876  0.88194263 0.88384527]\n",
      " [0.81337047 0.8102597  0.8066727  ... 0.87941086 0.8816554  0.88366216]]\n"
     ]
    }
   ],
   "source": [
    "print(res)"
   ]
  },
  {
   "cell_type": "code",
   "execution_count": 88,
   "id": "04dfdbcf-453f-4598-a25b-565b2e510a0a",
   "metadata": {},
   "outputs": [
    {
     "data": {
      "text/plain": [
       "0.08815603000000005"
      ]
     },
     "execution_count": 88,
     "metadata": {},
     "output_type": "execute_result"
    }
   ],
   "source": [
    "r = 0.9020692-0.81391317\n",
    "r"
   ]
  },
  {
   "cell_type": "code",
   "execution_count": null,
   "id": "5d77e385-de8e-4650-ba09-cf80847e937c",
   "metadata": {},
   "outputs": [],
   "source": []
  },
  {
   "cell_type": "markdown",
   "id": "7e5d683b-f072-4a7c-9c48-de365c4ab356",
   "metadata": {},
   "source": [
    "###### "
   ]
  },
  {
   "cell_type": "code",
   "execution_count": null,
   "id": "6da46e68-d8eb-4d48-b44e-cf638dafe47e",
   "metadata": {},
   "outputs": [],
   "source": []
  }
 ],
 "metadata": {
  "kernelspec": {
   "display_name": "Python 3 (ipykernel)",
   "language": "python",
   "name": "python3"
  },
  "language_info": {
   "codemirror_mode": {
    "name": "ipython",
    "version": 3
   },
   "file_extension": ".py",
   "mimetype": "text/x-python",
   "name": "python",
   "nbconvert_exporter": "python",
   "pygments_lexer": "ipython3",
   "version": "3.12.4"
  }
 },
 "nbformat": 4,
 "nbformat_minor": 5
}
