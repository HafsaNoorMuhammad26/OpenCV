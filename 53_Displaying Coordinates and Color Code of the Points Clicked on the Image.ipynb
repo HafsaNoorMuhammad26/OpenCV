{
 "cells": [
  {
   "cell_type": "markdown",
   "id": "47b40b5c-b129-4692-aa6c-8e6439b36c01",
   "metadata": {},
   "source": [
    "**53_Displaying Coordinates and Color Code of the Points Clicked on the Image**"
   ]
  },
  {
   "cell_type": "code",
   "execution_count": 1,
   "id": "69f4f362-8178-4dfd-93d0-457c32e1b055",
   "metadata": {},
   "outputs": [],
   "source": [
    "import cv2"
   ]
  },
  {
   "cell_type": "code",
   "execution_count": 8,
   "id": "f4261d02-65d2-462f-86ca-e28bc12cebd9",
   "metadata": {},
   "outputs": [],
   "source": [
    "def click_b(event,x,y,f,p):  #event, coordinates(x,y), flag, parameter\n",
    "    ## for coordinates\n",
    "    if event == cv2.EVENT_LBUTTONDOWN:\n",
    "        s = f\"{x},{y}\"  #text in string format\n",
    "        cv2.putText(img,s,(x,y),cv2.FONT_HERSHEY_COMPLEX,2,(0,0,0))\n",
    "        cv2.imshow(\"W1\",img)\n",
    "\n",
    "    ## for color\n",
    "    elif event == cv2.EVENT_RBUTTONDOWN:\n",
    "        b = img[y,x,0]\n",
    "        g = img[y,x,1]\n",
    "        r = img[y,x,2]\n",
    "        s1 = f\"{b},{g},{r}\"\n",
    "        cv2.putText(img,s1,(x,y),cv2.FONT_HERSHEY_PLAIN,2,(0,0,255))\n",
    "        cv2.imshow(\"W1\",img)\n",
    "\n",
    "img = cv2.imread(r\"C:\\Users\\hp\\Documents\\jupyter\\OpenCV by WsCube Tech\\Images\\balls.png\")\n",
    "\n",
    "cv2.imshow(\"W1\", img)\n",
    "\n",
    "##Call Mouse event functions:\n",
    "cv2.setMouseCallback(\"W1\",click_b)\n",
    "\n",
    "cv2.waitKey(0)\n",
    "cv2.destroyAllWindows()"
   ]
  },
  {
   "cell_type": "code",
   "execution_count": null,
   "id": "2329a1c8-38fe-4f45-b222-eeab89896e59",
   "metadata": {},
   "outputs": [],
   "source": []
  }
 ],
 "metadata": {
  "kernelspec": {
   "display_name": "Python 3 (ipykernel)",
   "language": "python",
   "name": "python3"
  },
  "language_info": {
   "codemirror_mode": {
    "name": "ipython",
    "version": 3
   },
   "file_extension": ".py",
   "mimetype": "text/x-python",
   "name": "python",
   "nbconvert_exporter": "python",
   "pygments_lexer": "ipython3",
   "version": "3.12.4"
  }
 },
 "nbformat": 4,
 "nbformat_minor": 5
}
