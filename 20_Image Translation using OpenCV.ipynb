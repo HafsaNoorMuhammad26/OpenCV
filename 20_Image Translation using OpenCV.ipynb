{
 "cells": [
  {
   "cell_type": "markdown",
   "id": "676578a4-928e-44d3-bdee-6402ed391d2e",
   "metadata": {},
   "source": [
    "**20_Image Translation using OpenCV**"
   ]
  },
  {
   "cell_type": "markdown",
   "id": "1261f190-729d-41bf-a46e-c3c4760f4aa9",
   "metadata": {},
   "source": [
    "**Advantages/application of image translation are:**\n",
    "- Hiding a part of the image.\n",
    "- Cropping an image.\n",
    "- Shifting an image.\n",
    "- Animating an image using image translations in loop."
   ]
  },
  {
   "cell_type": "code",
   "execution_count": 1,
   "id": "6414d79c-88fb-489e-8738-102568b156f8",
   "metadata": {},
   "outputs": [],
   "source": [
    "import cv2\n",
    "import numpy as np"
   ]
  },
  {
   "cell_type": "code",
   "execution_count": 16,
   "id": "9f2f0fbb-6435-4fba-a492-e0a95ad9cdfd",
   "metadata": {},
   "outputs": [],
   "source": [
    "img = cv2.imread(r\"C:\\Users\\hp\\Documents\\jupyter\\OpenCV by WsCube Tech\\Images\\Sana Javaid.jpg\")\n",
    "img = cv2.resize(img, (500,500))\n",
    "\n",
    "# print(img.shape)  # (500, 500, 3)\n",
    "\n",
    "m = np.float32([[1,0,100],[0,1,50]])  #mask(matrix) to create floating image\n",
    "\n",
    "new = cv2.warpAffine(img, m, (500,500))\n",
    "cv2.imshow(\"W1\", img)\n",
    "cv2.imshow(\"W2\", m)\n",
    "cv2.imshow(\"W3\", new)\n",
    "cv2.waitKey(0)\n",
    "cv2.destroyAllWindows()"
   ]
  },
  {
   "cell_type": "code",
   "execution_count": null,
   "id": "6e32d20a-79d7-44b0-9395-360049db2159",
   "metadata": {},
   "outputs": [],
   "source": []
  }
 ],
 "metadata": {
  "kernelspec": {
   "display_name": "Python 3 (ipykernel)",
   "language": "python",
   "name": "python3"
  },
  "language_info": {
   "codemirror_mode": {
    "name": "ipython",
    "version": 3
   },
   "file_extension": ".py",
   "mimetype": "text/x-python",
   "name": "python",
   "nbconvert_exporter": "python",
   "pygments_lexer": "ipython3",
   "version": "3.12.4"
  }
 },
 "nbformat": 4,
 "nbformat_minor": 5
}
