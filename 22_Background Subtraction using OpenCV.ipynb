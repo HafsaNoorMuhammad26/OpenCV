{
 "cells": [
  {
   "cell_type": "markdown",
   "id": "9a6f4e0b-8ab4-40ca-8a2c-10472dc371cc",
   "metadata": {},
   "source": [
    "**22_Background Subtraction using OpenCV**"
   ]
  },
  {
   "cell_type": "markdown",
   "id": "75919fc6-e137-4cd9-9f67-fb25debbf6f9",
   "metadata": {},
   "source": [
    "**Background subtraction**\n",
    "- Its output is a binary segmented image which essentially gives information about the non-stationary objects in the image.\n",
    "- There lies a problem in this conc ept of finding non-stationary portion, as the shadow of the moving object can be moving and sometimes being classified in the foreground."
   ]
  },
  {
   "cell_type": "code",
   "execution_count": 1,
   "id": "6afd5313-293b-412c-9713-69b712b50bdc",
   "metadata": {},
   "outputs": [],
   "source": [
    "import cv2"
   ]
  },
  {
   "cell_type": "code",
   "execution_count": 9,
   "id": "a035bd91-bbba-4df9-9738-3a5b3ca66aeb",
   "metadata": {},
   "outputs": [],
   "source": [
    "org_v = cv2.VideoCapture(r\"C:\\Users\\hp\\Documents\\jupyter\\OpenCV by WsCube Tech\\Images\\vid.mp4\")\n",
    "\n",
    "sub_m = cv2.createBackgroundSubtractorMOG2()  ## mask of video  \n",
    "\n",
    "while True:\n",
    "    r, frame = org_v.read()\n",
    "    if r == True:\n",
    "        frame = cv2.resize(frame, (700,500))\n",
    "        sub_v = sub_m.apply(frame)\n",
    "        cv2.imshow(\"Mask\", sub_v)\n",
    "        cv2.imshow(\"Original\", frame)\n",
    "        if cv2.waitKey(25) & 0xff == ord(\"p\"):\n",
    "            break\n",
    "    else:\n",
    "        break\n",
    "\n",
    "org_v.release()\n",
    "cv2.destroyAllWindows()\n"
   ]
  },
  {
   "cell_type": "code",
   "execution_count": null,
   "id": "ba5a79f4-5690-4d48-b34f-1a16f0f59b3f",
   "metadata": {},
   "outputs": [],
   "source": []
  }
 ],
 "metadata": {
  "kernelspec": {
   "display_name": "Python 3 (ipykernel)",
   "language": "python",
   "name": "python3"
  },
  "language_info": {
   "codemirror_mode": {
    "name": "ipython",
    "version": 3
   },
   "file_extension": ".py",
   "mimetype": "text/x-python",
   "name": "python",
   "nbconvert_exporter": "python",
   "pygments_lexer": "ipython3",
   "version": "3.12.4"
  }
 },
 "nbformat": 4,
 "nbformat_minor": 5
}
