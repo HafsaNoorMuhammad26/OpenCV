{
 "cells": [
  {
   "cell_type": "markdown",
   "id": "12b273f2-7e71-4bdd-93d2-7733311e178d",
   "metadata": {},
   "source": [
    "**8_Arithmetic Operations on Images using OpenCV**"
   ]
  },
  {
   "cell_type": "code",
   "execution_count": 1,
   "id": "c3047e28-fa7f-44da-bc05-b317179b6b40",
   "metadata": {},
   "outputs": [],
   "source": [
    "import cv2"
   ]
  },
  {
   "cell_type": "code",
   "execution_count": 8,
   "id": "477f9a21-121c-4766-a15c-b93141da3688",
   "metadata": {},
   "outputs": [],
   "source": [
    "img1 = cv2.imread(r\"C:\\Users\\hp\\Documents\\jupyter\\OpenCV by WsCube Tech\\Images\\Hania Amir.jpeg\")\n",
    "img2 = cv2.imread(r\"C:\\Users\\hp\\Documents\\jupyter\\OpenCV by WsCube Tech\\Images\\Sana Javaid.jpg\")\n",
    "\n",
    "img1 = cv2.resize(img1, (500,600))\n",
    "img2 = cv2.resize(img2, (500,600))\n",
    "\n",
    "new_img = cv2.addWeighted(img1, 1, img2, 0.3, 1 ) \n",
    "\n",
    "cv2.imshow(\"F1\", new_img)\n",
    "\n",
    "cv2.waitKey(0)\n",
    "cv2.destroyAllWindows()\n",
    "\n"
   ]
  },
  {
   "cell_type": "code",
   "execution_count": null,
   "id": "7babdc29-d0ed-4d35-b917-af558cc8bbcb",
   "metadata": {},
   "outputs": [],
   "source": [
    " img1 = cv2.imread(r\"C:\\Users\\hp\\Documents\\jupyter\\OpenCV by WsCube Tech\\Images\\Hania Amir.jpeg\")\n",
    "img2 = cv2.imread(r\"C:\\Users\\hp\\Documents\\jupyter\\OpenCV by WsCube Tech\\Images\\Sana Javaid.jpg\")\n",
    "\n",
    "img1 = cv2.resize(img1, (500,600))\n",
    "img2 = cv2.resize(img2, (500,600))\n",
    "\n",
    "new_img = cv2.subtract(img1, img2)\n",
    "\n",
    "cv2.imshow(\"F1\", new_img)\n",
    "\n",
    "cv2.waitKey(0)\n",
    "cv2.destroyAllWindows()\n",
    "\n"
   ]
  },
  {
   "cell_type": "code",
   "execution_count": null,
   "id": "78cce9dd-77e7-457b-88a6-c61d73e0d994",
   "metadata": {},
   "outputs": [],
   "source": []
  }
 ],
 "metadata": {
  "kernelspec": {
   "display_name": "Python 3 (ipykernel)",
   "language": "python",
   "name": "python3"
  },
  "language_info": {
   "codemirror_mode": {
    "name": "ipython",
    "version": 3
   },
   "file_extension": ".py",
   "mimetype": "text/x-python",
   "name": "python",
   "nbconvert_exporter": "python",
   "pygments_lexer": "ipython3",
   "version": "3.12.4"
  }
 },
 "nbformat": 4,
 "nbformat_minor": 5
}
