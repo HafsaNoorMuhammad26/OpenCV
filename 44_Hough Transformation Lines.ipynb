{
 "cells": [
  {
   "cell_type": "markdown",
   "id": "08639af7-09fc-46d0-973c-e4cd5137047a",
   "metadata": {},
   "source": [
    "**44_Hough Transformation Lines**"
   ]
  },
  {
   "cell_type": "code",
   "execution_count": 1,
   "id": "80bdb358-7b21-4ade-ba20-4090aab0db99",
   "metadata": {},
   "outputs": [],
   "source": [
    "# Equation of straight line:\n",
    "\n",
    "# y = mx + c\n",
    "# rsin$ + rcos$ = y"
   ]
  },
  {
   "cell_type": "code",
   "execution_count": 6,
   "id": "93e066c2-17ed-44af-89d6-148ce02a29b1",
   "metadata": {},
   "outputs": [],
   "source": [
    "import cv2\n",
    "import numpy as np"
   ]
  },
  {
   "cell_type": "code",
   "execution_count": 9,
   "id": "c47f4c45-8558-45ea-971b-2d7ef7413e6e",
   "metadata": {},
   "outputs": [],
   "source": [
    "# Longest method\n",
    "\n",
    "img = cv2.imread(r\"C:\\Users\\hp\\Documents\\jupyter\\OpenCV by WsCube Tech\\Images\\Sudoku.png\")\n",
    "\n",
    "#Convert Grayscale\n",
    "gray = cv2.cvtColor(img,cv2.COLOR_BGR2GRAY)\n",
    "\n",
    "#Detect Edges\n",
    "edge = cv2.Canny(gray,20,250)\n",
    "\n",
    "# Create Hough lines\n",
    "lines = cv2.HoughLines(edge,1,np.pi/180,200)\n",
    "\n",
    "# print(lines)  # data for x and y axis\n",
    "\n",
    "# rho, theta\n",
    "for r,th in lines[0]:\n",
    "    a = np.cos(th)\n",
    "    b = np.sin(th)\n",
    "\n",
    "    x0 = a*r\n",
    "    y0 = b*r\n",
    "\n",
    "    x1 = int(x0+1000*(-b))\n",
    "    y1 = int(y0+1000*(a))\n",
    "    x2 = int(x0-1000*(-b))\n",
    "    y2 = int(y0-1000*(a))\n",
    "\n",
    "    cv2.line(img,(x1,y1),(x2,y2),(0,255,0),2)\n",
    "\n",
    "cv2.imshow(\"Sudoku\", img)\n",
    "cv2.waitKey(0)\n",
    "cv2.destroyAllWindows()"
   ]
  },
  {
   "cell_type": "code",
   "execution_count": null,
   "id": "3574fc45-ebf8-4b2b-8107-815ac21f2210",
   "metadata": {},
   "outputs": [],
   "source": [
    "# Hough Line Transfer probability\n",
    "\n",
    "img = cv2.imread(r\"C:\\Users\\hp\\Documents\\jupyter\\OpenCV by WsCube Tech\\Images\\Sudoku.png\")\n",
    "\n",
    "#Convert Grayscale\n",
    "gray = cv2.cvtColor(img,cv2.COLOR_BGR2GRAY)\n",
    "\n",
    "#Detect Edges\n",
    "edge = cv2.Canny(gray,20,250)\n",
    "\n",
    "l = cv2.HoughLinesP(edge,1,np.pi/180,200,minLineLength=180,maxLineGap=100)\n",
    "\n",
    "# print(l) #all four points\n",
    "\n",
    "for i in l:\n",
    "    x1,y1,x2,y2 = i[0]\n",
    "    cv2.line(img,(x1,y1),(x2,y2),(0,255,0),2)\n",
    "\n",
    "cv2.imshow(\"Sudoku\", img)\n",
    "cv2.waitKey(0)\n",
    "cv2.destroyAllWindows()"
   ]
  },
  {
   "cell_type": "code",
   "execution_count": null,
   "id": "ba1a896f-ea53-413b-bdaf-3713103575eb",
   "metadata": {},
   "outputs": [],
   "source": []
  }
 ],
 "metadata": {
  "kernelspec": {
   "display_name": "Python 3 (ipykernel)",
   "language": "python",
   "name": "python3"
  },
  "language_info": {
   "codemirror_mode": {
    "name": "ipython",
    "version": 3
   },
   "file_extension": ".py",
   "mimetype": "text/x-python",
   "name": "python",
   "nbconvert_exporter": "python",
   "pygments_lexer": "ipython3",
   "version": "3.12.4"
  }
 },
 "nbformat": 4,
 "nbformat_minor": 5
}
