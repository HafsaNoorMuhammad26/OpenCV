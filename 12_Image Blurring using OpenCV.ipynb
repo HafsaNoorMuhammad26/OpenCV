{
 "cells": [
  {
   "cell_type": "markdown",
   "id": "1388ed65-26ed-43ec-9687-6f6aa1da33d9",
   "metadata": {},
   "source": [
    "**12_Image Blurring using OpenCV**"
   ]
  },
  {
   "cell_type": "code",
   "execution_count": 6,
   "id": "b70519de-e25e-4f26-9ca4-410013d907b7",
   "metadata": {},
   "outputs": [],
   "source": [
    "import cv2\n",
    "import numpy as np"
   ]
  },
  {
   "cell_type": "code",
   "execution_count": 17,
   "id": "5e7c4538-d5b5-42b5-9297-fea41ad93b81",
   "metadata": {},
   "outputs": [],
   "source": [
    "img = cv2.imread(r\"C:\\Users\\hp\\Documents\\jupyter\\OpenCV by WsCube Tech\\Images\\Sana Javaid c.jpg\")\n",
    "img = cv2.resize(img, (300, 300))\n",
    "\n",
    "g = cv2.GaussianBlur(img, (7,7), 0)  ## (src, ksize, sigmaX)\n",
    "m = cv2.medianBlur(img, 3)  ## (src, ksize)\n",
    "b = cv2.bilateralFilter(img, 9, 75, 75)  ## (src, d, sigmaColor, sigmaSpace)\n",
    "\n",
    "h = np.hstack((img, g, m, b))\n",
    "\n",
    "cv2.imshow(\"F1\", h)\n",
    "cv2.waitKey(0)\n",
    "cv2.destroyAllWindows()"
   ]
  },
  {
   "cell_type": "code",
   "execution_count": null,
   "id": "4fa1e06b-da22-4d8d-a152-5eee00a26d57",
   "metadata": {},
   "outputs": [],
   "source": []
  }
 ],
 "metadata": {
  "kernelspec": {
   "display_name": "Python 3 (ipykernel)",
   "language": "python",
   "name": "python3"
  },
  "language_info": {
   "codemirror_mode": {
    "name": "ipython",
    "version": 3
   },
   "file_extension": ".py",
   "mimetype": "text/x-python",
   "name": "python",
   "nbconvert_exporter": "python",
   "pygments_lexer": "ipython3",
   "version": "3.12.4"
  }
 },
 "nbformat": 4,
 "nbformat_minor": 5
}
