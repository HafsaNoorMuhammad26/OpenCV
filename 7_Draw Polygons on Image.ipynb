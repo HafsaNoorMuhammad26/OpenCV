{
 "cells": [
  {
   "cell_type": "markdown",
   "id": "0f956212-448e-4e05-98a6-b216ac605eaf",
   "metadata": {},
   "source": [
    "**7_Draw Polygons on Image**"
   ]
  },
  {
   "cell_type": "code",
   "execution_count": 1,
   "id": "bccf4c25-5175-4ed5-9ce5-9c1b4b92cfd7",
   "metadata": {},
   "outputs": [],
   "source": [
    "import cv2\n",
    "import numpy as np"
   ]
  },
  {
   "cell_type": "code",
   "execution_count": 18,
   "id": "5aca380f-efdd-4f68-b2ec-ab4265a05dbe",
   "metadata": {},
   "outputs": [],
   "source": [
    "old_img = cv2.imread(r\"C:\\Users\\hp\\Documents\\jupyter\\OpenCV by WsCube Tech\\Images\\Sana Javaid.jpg\")\n",
    "old_img = cv2.resize(old_img, (500, 600))\n",
    "new_img = cv2.polylines(img=old_img, \n",
    "                        pts=[np.array([[150,200],[250,100],[400,200],[400,500],[150,500]])], \n",
    "                        isClosed=True, color=(0,255,0), thickness=4, lineType=16)\n",
    "cv2.imshow(\"F1\", new_img)\n",
    "cv2.waitKey(0)\n",
    "cv2.destroyAllWindows()"
   ]
  },
  {
   "cell_type": "code",
   "execution_count": null,
   "id": "ca72f0d1-7a39-4c92-985d-3d4f54a886d8",
   "metadata": {},
   "outputs": [],
   "source": []
  }
 ],
 "metadata": {
  "kernelspec": {
   "display_name": "Python 3 (ipykernel)",
   "language": "python",
   "name": "python3"
  },
  "language_info": {
   "codemirror_mode": {
    "name": "ipython",
    "version": 3
   },
   "file_extension": ".py",
   "mimetype": "text/x-python",
   "name": "python",
   "nbconvert_exporter": "python",
   "pygments_lexer": "ipython3",
   "version": "3.12.4"
  }
 },
 "nbformat": 4,
 "nbformat_minor": 5
}
