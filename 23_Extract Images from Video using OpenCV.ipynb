{
 "cells": [
  {
   "cell_type": "markdown",
   "id": "d5684555-5b19-4d15-92c9-e539dc6a52e3",
   "metadata": {},
   "source": [
    "**23_Extract Images from Video using OpenCV**"
   ]
  },
  {
   "cell_type": "code",
   "execution_count": 2,
   "id": "9d17c816-6ea6-4cfc-a96b-1003d003f4f2",
   "metadata": {},
   "outputs": [],
   "source": [
    "import cv2"
   ]
  },
  {
   "cell_type": "code",
   "execution_count": 6,
   "id": "03018db4-ec6c-45db-b042-e803f50cca9b",
   "metadata": {},
   "outputs": [],
   "source": [
    "cap = cv2.VideoCapture(r\"C:\\Users\\hp\\Documents\\jupyter\\OpenCV by WsCube Tech\\Images\\ToDo.mp4\")\n",
    "c=0\n",
    "while True:\n",
    "    r, frame = cap.read()\n",
    "    if r == True:\n",
    "        frame = cv2.resize(frame, (500,500))\n",
    "        filename = r\"C://Users//hp\\Documents//jupyter//OpenCV by WsCube Tech//Images//Extract images from video//org_img_\"+str(c)+\".png\"\n",
    "        cv2.imwrite(filename, frame)\n",
    "        cv2.imshow(\"F1\", frame)\n",
    "        c=c+1\n",
    "        if cv2.waitKey(25) & 0xff == ord(\"p\"):\n",
    "            break\n",
    "    else:\n",
    "        break\n",
    "cap.release()\n",
    "cv2.destroyAllWindows()"
   ]
  },
  {
   "cell_type": "code",
   "execution_count": null,
   "id": "bd7b9948-0662-4562-a96b-b4fd25a429c5",
   "metadata": {},
   "outputs": [],
   "source": []
  }
 ],
 "metadata": {
  "kernelspec": {
   "display_name": "Python 3 (ipykernel)",
   "language": "python",
   "name": "python3"
  },
  "language_info": {
   "codemirror_mode": {
    "name": "ipython",
    "version": 3
   },
   "file_extension": ".py",
   "mimetype": "text/x-python",
   "name": "python",
   "nbconvert_exporter": "python",
   "pygments_lexer": "ipython3",
   "version": "3.12.4"
  }
 },
 "nbformat": 4,
 "nbformat_minor": 5
}
