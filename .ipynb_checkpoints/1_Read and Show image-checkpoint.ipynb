{
 "cells": [
  {
   "cell_type": "code",
   "execution_count": 1,
   "id": "bef86818-6d70-47e6-a8e7-ca74a5e90f24",
   "metadata": {},
   "outputs": [],
   "source": [
    "import cv2"
   ]
  },
  {
   "cell_type": "markdown",
   "id": "9bcd36b9-4992-4541-b44f-a4f6470076c9",
   "metadata": {},
   "source": [
    "**Read and Show image**"
   ]
  },
  {
   "cell_type": "code",
   "execution_count": 2,
   "id": "070dda6a-2ee3-431f-82be-cbf77bfa81f1",
   "metadata": {},
   "outputs": [],
   "source": [
    "# img = cv2.imread(\"img3.jpg\")  # image read\n",
    "# cv2.imshow(\"Wscube Tech\", img) # image show\n",
    "# cv2.waitKey(0)  # image frame wait      time-ms    and    0 pass keyword any key press\n",
    "# cv2.destroyAllWindows()   # all windows close"
   ]
  },
  {
   "cell_type": "code",
   "execution_count": 6,
   "id": "f160d2e0-6d84-4a9c-ad9e-cbbdda85b5ad",
   "metadata": {},
   "outputs": [],
   "source": [
    "img = cv2.imread(\"img3.jpg\")  # image read\n",
    "bird = cv2.imread(\"bird.jpg\")  # image read\n",
    "cv2.imshow(\"Wscube Tech\", img) # image show\n",
    "cv2.imshow(\"Wscube Tech1\", bird) # image show\n",
    "cv2.waitKey(0)              # image frame wait      time-ms    and    0 pass keyword any key press\n",
    "cv2.destroyWindow(\"Wscube Tech1\")    # only one window close"
   ]
  },
  {
   "cell_type": "markdown",
   "id": "1ba64736-6520-4d0e-89cb-dee41b1676d8",
   "metadata": {},
   "source": []
  },
  {
   "cell_type": "code",
   "execution_count": null,
   "id": "bbf06409-ffa0-4a53-aabe-72352674ad35",
   "metadata": {},
   "outputs": [],
   "source": []
  }
 ],
 "metadata": {
  "kernelspec": {
   "display_name": "Python 3 (ipykernel)",
   "language": "python",
   "name": "python3"
  },
  "language_info": {
   "codemirror_mode": {
    "name": "ipython",
    "version": 3
   },
   "file_extension": ".py",
   "mimetype": "text/x-python",
   "name": "python",
   "nbconvert_exporter": "python",
   "pygments_lexer": "ipython3",
   "version": "3.12.4"
  }
 },
 "nbformat": 4,
 "nbformat_minor": 5
}
