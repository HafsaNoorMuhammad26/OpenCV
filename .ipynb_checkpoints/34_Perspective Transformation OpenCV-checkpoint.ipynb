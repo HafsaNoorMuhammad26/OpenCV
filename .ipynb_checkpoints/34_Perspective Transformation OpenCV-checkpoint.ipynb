{
 "cells": [
  {
   "cell_type": "markdown",
   "id": "491b8d06-69df-4532-add9-7fd1ae2002d6",
   "metadata": {},
   "source": [
    "**34_Perspective Transformation OpenCV**"
   ]
  },
  {
   "cell_type": "code",
   "execution_count": 1,
   "id": "e85ffd44-fc8f-4714-a526-9e8f6da49015",
   "metadata": {},
   "outputs": [],
   "source": [
    "import cv2\n",
    "import numpy as np"
   ]
  },
  {
   "cell_type": "code",
   "execution_count": 2,
   "id": "6f9bc1cd-0545-4c20-bad2-cb2072082745",
   "metadata": {},
   "outputs": [],
   "source": [
    "img = cv2.imread(r\"C:\\Users\\hp\\Documents\\jupyter\\OpenCV by WsCube Tech\\Images\\paper.jpg\")\n",
    "cv2.circle(img,(125,145),4,(0,0,255),-1)\n",
    "cv2.circle(img,(329,189),4,(0,0,255),-1)\n",
    "cv2.circle(img,(59,456),4,(0,0,255),-1)\n",
    "cv2.circle(img,(262,500),4,(0,0,255),-1)\n",
    "\n",
    "# print(img.shape) #(612, 408, 3)\n",
    "\n",
    "cv2.imshow(\"Paper\", img)\n",
    "cv2.waitKey(0)\n",
    "cv2.destroyAllWindows()"
   ]
  },
  {
   "cell_type": "code",
   "execution_count": 4,
   "id": "dc2f5b25-b583-474e-b7ef-73bd23f80d81",
   "metadata": {},
   "outputs": [
    {
     "data": {
      "text/plain": [
       "array([[125., 145.],\n",
       "       [329., 189.],\n",
       "       [ 59., 456.],\n",
       "       [262., 500.]], dtype=float32)"
      ]
     },
     "execution_count": 4,
     "metadata": {},
     "output_type": "execute_result"
    }
   ],
   "source": [
    "src1 = np.float32([[125,145],[329,189],[59,456],[262,500]])\n",
    "src1"
   ]
  },
  {
   "cell_type": "code",
   "execution_count": 8,
   "id": "7a951ae4-43d4-43de-8bf4-be093cf567cb",
   "metadata": {},
   "outputs": [],
   "source": [
    "img = cv2.imread(r\"C:\\Users\\hp\\Documents\\jupyter\\OpenCV by WsCube Tech\\Images\\paper.jpg\")\n",
    "\n",
    "w,h = (408,612)\n",
    "\n",
    "src1 = np.float32([[125,145],[329,189],[59,456],[262,500]])\n",
    "dst1 = np.float32([[0,0],[w,0],[0,h],[w,h]])\n",
    "m = cv2.getPerspectiveTransform(src1,dst1) #Use in CamScanner\n",
    "\n",
    "new_img = cv2.warpPerspective(img,m,(w,h))\n",
    "\n",
    "cv2.imshow(\"New\", new_img)\n",
    "cv2.imshow(\"Paper\", img)\n",
    "cv2.waitKey(0)\n",
    "cv2.destroyAllWindows()"
   ]
  },
  {
   "cell_type": "code",
   "execution_count": null,
   "id": "a592c7e6-9975-4e87-9b4d-8e63b5fcdc87",
   "metadata": {},
   "outputs": [],
   "source": [
    "# Four points (x,y) by using MSPaint\n",
    "# 125,145\n",
    "# 329,189\n",
    "# 59,456\n",
    "# 262,500"
   ]
  }
 ],
 "metadata": {
  "kernelspec": {
   "display_name": "Python 3 (ipykernel)",
   "language": "python",
   "name": "python3"
  },
  "language_info": {
   "codemirror_mode": {
    "name": "ipython",
    "version": 3
   },
   "file_extension": ".py",
   "mimetype": "text/x-python",
   "name": "python",
   "nbconvert_exporter": "python",
   "pygments_lexer": "ipython3",
   "version": "3.12.4"
  }
 },
 "nbformat": 4,
 "nbformat_minor": 5
}
