{
 "cells": [
  {
   "cell_type": "markdown",
   "id": "bb407635-f893-4fc2-8296-1a69d604e470",
   "metadata": {},
   "source": [
    "**26_Create Blank Image OpenCV Python**"
   ]
  },
  {
   "cell_type": "code",
   "execution_count": 1,
   "id": "3bd8ab1e-193e-47f0-b0c2-458af2d58b9e",
   "metadata": {},
   "outputs": [],
   "source": [
    "import cv2\n",
    "import numpy as np"
   ]
  },
  {
   "cell_type": "code",
   "execution_count": 2,
   "id": "e4eead42-6512-4516-beb1-32363cb27f33",
   "metadata": {},
   "outputs": [
    {
     "name": "stdout",
     "output_type": "stream",
     "text": [
      "(1520, 720, 3)\n",
      "[[[  0   0   0]\n",
      "  [  0   0   0]\n",
      "  [  0   0   0]\n",
      "  ...\n",
      "  [  0   0   0]\n",
      "  [  0   0   0]\n",
      "  [  0   0   0]]\n",
      "\n",
      " [[  0   0   0]\n",
      "  [  0   0   0]\n",
      "  [  0   0   0]\n",
      "  ...\n",
      "  [  0   0   0]\n",
      "  [  0   0   0]\n",
      "  [  0   0   0]]\n",
      "\n",
      " [[  0   0   0]\n",
      "  [  0   0   0]\n",
      "  [  0   0   0]\n",
      "  ...\n",
      "  [  0   0   0]\n",
      "  [  0   0   0]\n",
      "  [  0   0   0]]\n",
      "\n",
      " ...\n",
      "\n",
      " [[222 210 216]\n",
      "  [223 211 217]\n",
      "  [224 212 218]\n",
      "  ...\n",
      "  [145 159 201]\n",
      "  [144 159 198]\n",
      "  [144 159 198]]\n",
      "\n",
      " [[228 216 222]\n",
      "  [228 216 222]\n",
      "  [229 217 223]\n",
      "  ...\n",
      "  [144 159 198]\n",
      "  [143 158 197]\n",
      "  [143 158 197]]\n",
      "\n",
      " [[234 222 228]\n",
      "  [234 222 228]\n",
      "  [234 222 228]\n",
      "  ...\n",
      "  [143 158 197]\n",
      "  [142 157 196]\n",
      "  [142 157 196]]]\n"
     ]
    }
   ],
   "source": [
    "img = cv2.imread(r\"C:\\Users\\hp\\Documents\\jupyter\\OpenCV by WsCube Tech\\Images\\Sana Javaid.jpg\")\n",
    "print(img.shape)\n",
    "print(img)"
   ]
  },
  {
   "cell_type": "code",
   "execution_count": 6,
   "id": "709f3539-f419-4657-a2e5-d719d9a93273",
   "metadata": {},
   "outputs": [],
   "source": [
    "#White image\n",
    "new_img = np.ones((500,500,3),np.uint8)*255\n",
    "cv2.imshow(\"White Image\", new_img)\n",
    "cv2.waitKey(0)\n",
    "cv2.destroyAllWindows()"
   ]
  },
  {
   "cell_type": "code",
   "execution_count": 5,
   "id": "d738c047-66ee-4576-94db-11c063b470c5",
   "metadata": {},
   "outputs": [],
   "source": [
    "#Black image\n",
    "new_img1 = np.zeros((500,500,3),np.uint8)*255\n",
    "cv2.imshow(\"Black Image\", new_img1)\n",
    "cv2.waitKey(0)\n",
    "cv2.destroyAllWindows()"
   ]
  },
  {
   "cell_type": "code",
   "execution_count": null,
   "id": "d383b452-6eae-4d6f-92a3-f3efe65cc967",
   "metadata": {},
   "outputs": [],
   "source": []
  }
 ],
 "metadata": {
  "kernelspec": {
   "display_name": "Python 3 (ipykernel)",
   "language": "python",
   "name": "python3"
  },
  "language_info": {
   "codemirror_mode": {
    "name": "ipython",
    "version": 3
   },
   "file_extension": ".py",
   "mimetype": "text/x-python",
   "name": "python",
   "nbconvert_exporter": "python",
   "pygments_lexer": "ipython3",
   "version": "3.12.4"
  }
 },
 "nbformat": 4,
 "nbformat_minor": 5
}
