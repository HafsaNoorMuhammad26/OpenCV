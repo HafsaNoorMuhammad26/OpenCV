{
 "cells": [
  {
   "cell_type": "markdown",
   "id": "073c7f06-9762-4f1f-9080-f4f1f4679eab",
   "metadata": {},
   "source": [
    "**45_Template Matching using OpenCV**"
   ]
  },
  {
   "cell_type": "code",
   "execution_count": 10,
   "id": "90a2bb14-fab3-4577-b896-fb089b7f11a3",
   "metadata": {},
   "outputs": [],
   "source": [
    "import cv2\n",
    "import numpy as np"
   ]
  },
  {
   "cell_type": "code",
   "execution_count": 42,
   "id": "fa7b34b5-229d-42ac-afa6-3c37f83dc541",
   "metadata": {},
   "outputs": [],
   "source": [
    "img = cv2.imread(r\"C:\\Users\\hp\\Documents\\jupyter\\OpenCV by WsCube Tech\\Images\\group.jpg\")\n",
    "img = cv2.resize(img,(600,500))\n",
    "gray = cv2.cvtColor(img, cv2.COLOR_BGR2GRAY)\n",
    "\n",
    "temp = cv2.imread(r\"C:\\Users\\hp\\Documents\\jupyter\\OpenCV by WsCube Tech\\Images\\group_c.jpg\")\n",
    "gray1 = cv2.cvtColor(temp, cv2.COLOR_BGR2GRAY)\n",
    "\n",
    "#Design a rectangle to find out temp image\n",
    "# print(gray1.shape)           # (141, 87)\n",
    "\n",
    "##First find heigh and width\n",
    "\n",
    "w,h = gray1.shape[::-1]\n",
    "\n",
    "#For search use template matching\n",
    "res = cv2.matchTemplate(gray,gray1,cv2.TM_CCORR_NORMED)\n",
    "# print(res)   # Black area points\n",
    "\n",
    "#Use Threshold value\n",
    "thr = 0.9559721\n",
    "\n",
    "l =np.where(res>=thr)\n",
    "# print(l)\n",
    "\n",
    "for i in zip(*l[::-1]):\n",
    "    cv2.rectangle(img,i,(i[0]+w,i[0]+h),(0,0,255),2)\n",
    "\n",
    "\n",
    "\n",
    "# cv2.imshow(\"W\",res)\n",
    "cv2.imshow(\"Group Image\", img)\n",
    "cv2.imshow(\"Template Image\", temp)\n",
    "cv2.waitKey(0)\n",
    "cv2.destroyAllWindows()"
   ]
  },
  {
   "cell_type": "code",
   "execution_count": 7,
   "id": "a169c5af-0166-426d-babf-27f930dc31ac",
   "metadata": {},
   "outputs": [
    {
     "data": {
      "text/plain": [
       "(87, 141)"
      ]
     },
     "execution_count": 7,
     "metadata": {},
     "output_type": "execute_result"
    }
   ],
   "source": [
    "w,h = gray1.shape[::-1]\n",
    "w,h"
   ]
  },
  {
   "cell_type": "code",
   "execution_count": 21,
   "id": "110d7316-f71c-4ba4-8239-23fecdcf2f06",
   "metadata": {},
   "outputs": [
    {
     "name": "stdout",
     "output_type": "stream",
     "text": [
      "(array([  0,   0,   0, ..., 328, 328, 328], dtype=int64), array([  0,   1,   2, ..., 435, 436, 437], dtype=int64))\n"
     ]
    }
   ],
   "source": [
    "print(l)"
   ]
  },
  {
   "cell_type": "code",
   "execution_count": 22,
   "id": "c364ecb2-6ec8-4465-b3a9-438a7e0a9668",
   "metadata": {},
   "outputs": [
    {
     "name": "stdout",
     "output_type": "stream",
     "text": [
      "[[0.93709487 0.93653166 0.93605894 ... 0.9455202  0.94552857 0.9454241 ]\n",
      " [0.9361508  0.9355202  0.93506336 ... 0.9453392  0.94536906 0.9452756 ]\n",
      " [0.9351959  0.93455565 0.9340971  ... 0.9449963  0.9450323  0.9448721 ]\n",
      " ...\n",
      " [0.7660493  0.7661898  0.76664925 ... 0.8572286  0.85880923 0.86028636]\n",
      " [0.76596606 0.7659978  0.7663868  ... 0.8559209  0.8575887  0.8591455 ]\n",
      " [0.7664077  0.76649356 0.76677877 ... 0.8548085  0.8564835  0.85801005]]\n"
     ]
    }
   ],
   "source": [
    "print(res)"
   ]
  },
  {
   "cell_type": "code",
   "execution_count": null,
   "id": "04dfdbcf-453f-4598-a25b-565b2e510a0a",
   "metadata": {},
   "outputs": [],
   "source": []
  }
 ],
 "metadata": {
  "kernelspec": {
   "display_name": "Python 3 (ipykernel)",
   "language": "python",
   "name": "python3"
  },
  "language_info": {
   "codemirror_mode": {
    "name": "ipython",
    "version": 3
   },
   "file_extension": ".py",
   "mimetype": "text/x-python",
   "name": "python",
   "nbconvert_exporter": "python",
   "pygments_lexer": "ipython3",
   "version": "3.12.4"
  }
 },
 "nbformat": 4,
 "nbformat_minor": 5
}
