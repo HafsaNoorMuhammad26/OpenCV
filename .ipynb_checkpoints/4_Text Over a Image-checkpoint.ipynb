{
 "cells": [
  {
   "cell_type": "markdown",
   "id": "554816ae-a5d6-405c-98a8-5d0c2167a412",
   "metadata": {},
   "source": [
    "**4_Text Over a Image**"
   ]
  },
  {
   "cell_type": "code",
   "execution_count": 2,
   "id": "4e5a0647-f61f-49eb-a339-135cfca87baa",
   "metadata": {},
   "outputs": [],
   "source": [
    "import cv2"
   ]
  },
  {
   "cell_type": "code",
   "execution_count": 4,
   "id": "8bb3c2fa-1c71-4ce8-8ee3-d9355e42eb9c",
   "metadata": {},
   "outputs": [],
   "source": [
    "img_get = cv2.imread(r\"C:\\Users\\hp\\Documents\\jupyter\\OpenCV by WsCube Tech\\Images\\img1.jpg\")\n",
    "img_get = cv2.resize(img_get, (500,500))\n",
    "\n",
    "txt = cv2.putText(img = img_get,\n",
    "    text = \"Bird\",\n",
    "    org = (50,70),\n",
    "    fontFace = cv2.FONT_HERSHEY_DUPLEX,\n",
    "    fontScale = 3,\n",
    "    color = (255,0,0),  ## in BGR format\n",
    "    thickness = 3,\n",
    "    lineType = cv2.LINE_8,\n",
    "    bottomLeftOrigin = False)\n",
    "\n",
    "txt = cv2.putText(img = txt,\n",
    "    text = \"Bird\",\n",
    "    org = (50,80),\n",
    "    fontFace = cv2.FONT_HERSHEY_DUPLEX,\n",
    "    fontScale = 3,\n",
    "    color = (0,255,0),  ## in BGR format\n",
    "    thickness = 3,\n",
    "    lineType = cv2.LINE_8,\n",
    "    bottomLeftOrigin = True) ## Mirror text\n",
    "\n",
    "cv2.imshow(\"W1\", txt)\n",
    "cv2.waitKey(0)\n",
    "cv2.destroyAllWindows()"
   ]
  },
  {
   "cell_type": "code",
   "execution_count": null,
   "id": "0ecd256d-6487-4901-9aa0-fef1ceb47eeb",
   "metadata": {},
   "outputs": [],
   "source": []
  }
 ],
 "metadata": {
  "kernelspec": {
   "display_name": "Python 3 (ipykernel)",
   "language": "python",
   "name": "python3"
  },
  "language_info": {
   "codemirror_mode": {
    "name": "ipython",
    "version": 3
   },
   "file_extension": ".py",
   "mimetype": "text/x-python",
   "name": "python",
   "nbconvert_exporter": "python",
   "pygments_lexer": "ipython3",
   "version": "3.12.4"
  }
 },
 "nbformat": 4,
 "nbformat_minor": 5
}
