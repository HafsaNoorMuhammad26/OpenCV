{
 "cells": [
  {
   "cell_type": "markdown",
   "id": "5ee8692a-11c0-4fd6-9854-a3cdc135a617",
   "metadata": {},
   "source": [
    "**5_Draw Line and Rectangle on Image**"
   ]
  },
  {
   "cell_type": "code",
   "execution_count": null,
   "id": "4e23aebb-5494-447b-9c42-3ed4b1aac5f6",
   "metadata": {},
   "outputs": [],
   "source": []
  }
 ],
 "metadata": {
  "kernelspec": {
   "display_name": "Python 3 (ipykernel)",
   "language": "python",
   "name": "python3"
  },
  "language_info": {
   "codemirror_mode": {
    "name": "ipython",
    "version": 3
   },
   "file_extension": ".py",
   "mimetype": "text/x-python",
   "name": "python",
   "nbconvert_exporter": "python",
   "pygments_lexer": "ipython3",
   "version": "3.12.4"
  }
 },
 "nbformat": 4,
 "nbformat_minor": 5
}
