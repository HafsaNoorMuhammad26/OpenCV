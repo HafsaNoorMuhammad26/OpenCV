{
 "cells": [
  {
   "cell_type": "markdown",
   "id": "cd6bc139-16d8-4590-9e07-dbfca068c77b",
   "metadata": {},
   "source": [
    "**29_Region of Interest using OpenCV**"
   ]
  },
  {
   "cell_type": "code",
   "execution_count": 1,
   "id": "3fba4485-107a-44ab-aa2b-86b65352486e",
   "metadata": {},
   "outputs": [],
   "source": [
    "import cv2"
   ]
  },
  {
   "cell_type": "code",
   "execution_count": 86,
   "id": "7a22710e-0c4e-403c-b63e-114cd5211a5f",
   "metadata": {},
   "outputs": [],
   "source": [
    "img = cv2.imread(r\"C:\\Users\\hp\\Documents\\jupyter\\OpenCV by WsCube Tech\\Images\\man.jpg\")\n",
    "img = cv2.resize(img,(950,500))\n",
    "\n",
    "# img = cv2.imread(\"f1s.jpg\")\n",
    "\n",
    "cv2.imwrite(\"Man.jpg\",img)\n",
    "cv2.imshow(\"Man\", img)\n",
    "cv2.waitKey(0)\n",
    "cv2.destroyAllWindows()\n"
   ]
  },
  {
   "cell_type": "code",
   "execution_count": 87,
   "id": "13ff6148-15f0-444f-97ba-0f3de293a90d",
   "metadata": {},
   "outputs": [],
   "source": [
    "# img[y1:y2,x1:x2]   crop\n",
    "\n",
    "img = cv2.imread(\"Man.jpg\")\n",
    "\n",
    "crop = img[43:213,409:546]\n",
    "\n",
    "cv2.imshow(\"Main\", crop)\n",
    "cv2.waitKey(0)\n",
    "cv2.destroyAllWindows()\n"
   ]
  },
  {
   "cell_type": "code",
   "execution_count": 103,
   "id": "ca1026ac-c4d8-411c-a62d-0634d8351de4",
   "metadata": {},
   "outputs": [],
   "source": [
    "# img[y1:y2,x1:x2]   crop\n",
    "\n",
    "img = cv2.imread(\"Man.jpg\")\n",
    "\n",
    "crop = img[43:213,409:546]\n",
    "\n",
    "#moving right side y axis dont change only x1,x2 change\n",
    "img[43:213,546:683] = crop ##---> 546-409 =137+546=683\n",
    "img[43:213,683:820] = crop ##---> 683-546= 137+683=820\n",
    "\n",
    "#moving left side y axis dont change only x1,x2 change\n",
    "img[43:213,272:409] = crop ##409-137=272\n",
    "img[43:213,135:272] = crop    ##---> 272-137=135\n",
    "cv2.imshow(\"Man\", img)\n",
    "cv2.waitKey(0)\n",
    "cv2.destroyAllWindows()\n"
   ]
  },
  {
   "cell_type": "code",
   "execution_count": 72,
   "id": "883082c0-75c3-4c28-b89c-23ac49915e5b",
   "metadata": {},
   "outputs": [
    {
     "data": {
      "text/plain": [
       "295"
      ]
     },
     "execution_count": 72,
     "metadata": {},
     "output_type": "execute_result"
    }
   ],
   "source": [
    "# By using ms paint we easily find:\n",
    "# x1,y1   x2,y2\n",
    "# 409,43  546,213\n"
   ]
  },
  {
   "cell_type": "code",
   "execution_count": 94,
   "id": "9addffa9-da6d-449e-bbc5-c6ad67b48cff",
   "metadata": {},
   "outputs": [
    {
     "data": {
      "text/plain": [
       "683"
      ]
     },
     "execution_count": 94,
     "metadata": {},
     "output_type": "execute_result"
    }
   ],
   "source": [
    "a=546-409\n",
    "a\n",
    "b=a+546\n",
    "b"
   ]
  },
  {
   "cell_type": "code",
   "execution_count": 102,
   "id": "4fc8e2f0-8598-42d9-a26f-ef25f9d86cbb",
   "metadata": {},
   "outputs": [
    {
     "data": {
      "text/plain": [
       "135"
      ]
     },
     "execution_count": 102,
     "metadata": {},
     "output_type": "execute_result"
    }
   ],
   "source": [
    "c=409-137\n",
    "c\n",
    "d=272-137\n",
    "d"
   ]
  }
 ],
 "metadata": {
  "kernelspec": {
   "display_name": "Python 3 (ipykernel)",
   "language": "python",
   "name": "python3"
  },
  "language_info": {
   "codemirror_mode": {
    "name": "ipython",
    "version": 3
   },
   "file_extension": ".py",
   "mimetype": "text/x-python",
   "name": "python",
   "nbconvert_exporter": "python",
   "pygments_lexer": "ipython3",
   "version": "3.12.4"
  }
 },
 "nbformat": 4,
 "nbformat_minor": 5
}
