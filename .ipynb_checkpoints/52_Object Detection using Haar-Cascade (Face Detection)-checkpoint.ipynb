{
 "cells": [
  {
   "cell_type": "markdown",
   "id": "e21cd49d-9f95-4e11-a2f9-d82aff11c579",
   "metadata": {},
   "source": [
    "**52_Object Detection using Haar-Cascade (Face Detection)**"
   ]
  },
  {
   "cell_type": "markdown",
   "id": "011310aa-fb3e-4726-929a-5f07c3219756",
   "metadata": {},
   "source": [
    "- **Haar-cascade** is an algorithm that can detect objects in images, irrespective of their scale in image and location.\n",
    "\n",
    "- This algorithm is not so complex and can run in real-time. We can train a haar-cascade detector to detect various objects like cars, bikes, buildings, fruits, etc."
   ]
  },
  {
   "cell_type": "code",
   "execution_count": 4,
   "id": "fa6da1eb-edf3-4ebf-bae4-cf6dd25dc6cf",
   "metadata": {},
   "outputs": [],
   "source": [
    "import cv2"
   ]
  },
  {
   "cell_type": "code",
   "execution_count": 8,
   "id": "d361f758-6631-4bb7-b251-8acf673b6300",
   "metadata": {},
   "outputs": [],
   "source": [
    "img = cv2.imread(r\"C:\\Users\\hp\\Documents\\jupyter\\OpenCV by WsCube Tech\\Images\\p2.png\")\n",
    "\n",
    "#Convert gray\n",
    "gray = cv2.cvtColor(img,cv2.COLOR_BGR2GRAY)\n",
    "\n",
    "#Haarcascade file\n",
    "f = cv2.CascadeClassifier(r\"C:\\Python 3.12\\Lib\\site-packages\\cv2\\data\\haarcascade_frontalface_default.xml\")\n",
    "\n",
    "#Find out face points\n",
    "##Detect\n",
    "d = f.detectMultiScale(gray,1.3,4)\n",
    "#print(d)  #give points for all three faces\n",
    "\n",
    "for (x,y,w,h) in d:\n",
    "    cv2.rectangle(img,(x,y),(x+w,y+h),(0,0,255),3,)\n",
    "cv2.imshow(\"W1\",img)\n",
    "cv2.waitKey(0)\n",
    "cv2.destroyAllWindows()"
   ]
  },
  {
   "cell_type": "code",
   "execution_count": 10,
   "id": "839cd224-9453-4626-868c-27f6ad776285",
   "metadata": {},
   "outputs": [],
   "source": [
    "img = cv2.imread(r\"C:\\Users\\hp\\Documents\\jupyter\\OpenCV by WsCube Tech\\Images\\p1.png\")\n",
    "\n",
    "#Convert gray\n",
    "gray = cv2.cvtColor(img,cv2.COLOR_BGR2GRAY)\n",
    "\n",
    "#Haarcascade file\n",
    "f = cv2.CascadeClassifier(r\"C:\\Python 3.12\\Lib\\site-packages\\cv2\\data\\haarcascade_frontalface_default.xml\")\n",
    "\n",
    "#Find out face points\n",
    "##Detect\n",
    "d = f.detectMultiScale(gray,1.3,4)\n",
    "#print(d)  #give points for all three faces\n",
    "\n",
    "for (x,y,w,h) in d:\n",
    "    cv2.rectangle(img,(x,y),(x+w,y+h),(0,0,255),3,)\n",
    "cv2.imshow(\"W1\",img)\n",
    "cv2.waitKey(0)\n",
    "cv2.destroyAllWindows()"
   ]
  },
  {
   "cell_type": "code",
   "execution_count": null,
   "id": "1d4e04f3-f080-4586-8968-f0794a658e9b",
   "metadata": {},
   "outputs": [],
   "source": []
  }
 ],
 "metadata": {
  "kernelspec": {
   "display_name": "Python 3 (ipykernel)",
   "language": "python",
   "name": "python3"
  },
  "language_info": {
   "codemirror_mode": {
    "name": "ipython",
    "version": 3
   },
   "file_extension": ".py",
   "mimetype": "text/x-python",
   "name": "python",
   "nbconvert_exporter": "python",
   "pygments_lexer": "ipython3",
   "version": "3.12.4"
  }
 },
 "nbformat": 4,
 "nbformat_minor": 5
}
