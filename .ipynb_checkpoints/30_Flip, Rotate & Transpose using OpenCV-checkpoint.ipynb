{
 "cells": [
  {
   "cell_type": "markdown",
   "id": "f6bbe164-d5f5-4e77-95d3-4e4ac22ecac6",
   "metadata": {},
   "source": [
    "**30_Flip, Rotate & Transpose using OpenCV**"
   ]
  },
  {
   "cell_type": "code",
   "execution_count": 1,
   "id": "fb1e5704-6a4d-4790-b565-baaaeed09fea",
   "metadata": {},
   "outputs": [],
   "source": [
    "import cv2"
   ]
  },
  {
   "cell_type": "code",
   "execution_count": 5,
   "id": "fe1c642b-9c61-4ba1-bad8-d5c434ce3ff7",
   "metadata": {},
   "outputs": [],
   "source": [
    "img = cv2.imread(r\"C:\\Users\\hp\\Documents\\jupyter\\OpenCV by WsCube Tech\\Images\\Sana Javaid.jpg\")\n",
    "img = cv2.resize(img,(500,500))\n",
    "\n",
    "#Flip\n",
    "# img = cv2.flip(img,1) # flip y axis\n",
    "# img = cv2.flip(img,0) # flip x axis\n",
    "img = cv2.flip(img,-1) # flip x,y axis\n",
    "\n",
    "cv2.imshow(\"W1\", img)\n",
    "cv2.waitKey(0)\n",
    "cv2.destroyAllWindows()"
   ]
  },
  {
   "cell_type": "code",
   "execution_count": 8,
   "id": "d81356c4-053a-4546-8f03-b89e7280ac5f",
   "metadata": {},
   "outputs": [],
   "source": [
    "img = cv2.imread(r\"C:\\Users\\hp\\Documents\\jupyter\\OpenCV by WsCube Tech\\Images\\Sana Javaid.jpg\")\n",
    "img = cv2.resize(img,(500,500))\n",
    "\n",
    "#Rotate\n",
    "# img = cv2.rotate(img, cv2.ROTATE_180)\n",
    "img = cv2.rotate(img, cv2.ROTATE_90_CLOCKWISE)\n",
    "# img = cv2.rotate(img, cv2.ROTATE_90_COUNTERCLOCKWISE)\n",
    "\n",
    "cv2.imshow(\"W1\", img)\n",
    "cv2.waitKey(0)\n",
    "cv2.destroyAllWindows()"
   ]
  },
  {
   "cell_type": "code",
   "execution_count": 9,
   "id": "a052b83b-aeac-4a9b-bef2-60dea50b3522",
   "metadata": {},
   "outputs": [],
   "source": [
    "img = cv2.imread(r\"C:\\Users\\hp\\Documents\\jupyter\\OpenCV by WsCube Tech\\Images\\Sana Javaid.jpg\")\n",
    "img = cv2.resize(img,(500,500))\n",
    "\n",
    "#Transpose\n",
    "img = cv2.transpose(img)\n",
    "\n",
    "cv2.imshow(\"W1\", img)\n",
    "cv2.waitKey(0)\n",
    "cv2.destroyAllWindows()"
   ]
  },
  {
   "cell_type": "code",
   "execution_count": null,
   "id": "ff9c4356-47d8-49bc-bc7f-564cf5d62877",
   "metadata": {},
   "outputs": [],
   "source": []
  }
 ],
 "metadata": {
  "kernelspec": {
   "display_name": "Python 3 (ipykernel)",
   "language": "python",
   "name": "python3"
  },
  "language_info": {
   "codemirror_mode": {
    "name": "ipython",
    "version": 3
   },
   "file_extension": ".py",
   "mimetype": "text/x-python",
   "name": "python",
   "nbconvert_exporter": "python",
   "pygments_lexer": "ipython3",
   "version": "3.12.4"
  }
 },
 "nbformat": 4,
 "nbformat_minor": 5
}
