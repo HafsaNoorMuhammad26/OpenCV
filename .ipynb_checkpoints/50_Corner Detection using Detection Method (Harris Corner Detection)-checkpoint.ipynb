{
 "cells": [
  {
   "cell_type": "markdown",
   "id": "c2eda8bd-4542-420d-b692-590d0f10c2be",
   "metadata": {},
   "source": [
    "**50_Corner Detection using Detection Method (Harris Corner Detection)**"
   ]
  },
  {
   "cell_type": "markdown",
   "id": "665c6ed9-ce80-4ed4-a95c-ce6a394223ef",
   "metadata": {},
   "source": [
    " What is a Corner?\n",
    "\n",
    "    A corner can be interpreted as the junction of two edges (where an edge is a sudden change in image brightness)."
   ]
  },
  {
   "cell_type": "code",
   "execution_count": 8,
   "id": "e49aa315-52e6-4263-aad3-3b59f108880e",
   "metadata": {},
   "outputs": [],
   "source": [
    "import cv2\n",
    "import numpy as np"
   ]
  },
  {
   "cell_type": "code",
   "execution_count": 44,
   "id": "b9202939-a2d4-4a8e-b05f-243aab10a103",
   "metadata": {},
   "outputs": [],
   "source": [
    "img = cv2.imread(r\"C:\\Users\\hp\\Documents\\jupyter\\OpenCV by WsCube Tech\\Images\\sh1.jpg\")\n",
    "img = cv2.resize(img,(600,600))\n",
    "\n",
    "#To find Corner of the image first convert into bgr to gray\n",
    "gray = cv2.cvtColor(img,cv2.COLOR_BGR2GRAY)\n",
    "#print(gray) # integer format\n",
    "\n",
    "##Convert integer format into float32\n",
    "gray = np.float32(gray)\n",
    "\n",
    "##For Harris Corner method\n",
    "###Resultant Image\n",
    "res = cv2.cornerHarris(gray,4,3,0.04)\n",
    "\n",
    "#Dilate\n",
    "res = cv2.dilate(res,None)\n",
    "\n",
    "#print(res)\n",
    "\n",
    "##Apply into original image\n",
    "img[res>0.01*res.max()] = [0,0,255]\n",
    "\n",
    "#cv2.imshow(\"Shapes\",img)\n",
    "cv2.imshow(\"Gray Shapes\",img)\n",
    "cv2.waitKey(0)\n",
    "cv2.destroyAllWindows()"
   ]
  },
  {
   "cell_type": "code",
   "execution_count": 52,
   "id": "9f965258-c975-453e-ba8b-bcaab7169082",
   "metadata": {},
   "outputs": [],
   "source": [
    "img = cv2.imread(r\"C:\\Users\\hp\\Documents\\jupyter\\OpenCV by WsCube Tech\\Images\\man.jpg\")\n",
    "img = cv2.resize(img,(600,600))\n",
    "\n",
    "#To find Corner of the image first convert into bgr to gray\n",
    "gray = cv2.cvtColor(img,cv2.COLOR_BGR2GRAY)\n",
    "#print(gray) # integer format\n",
    "\n",
    "##Convert integer format into float32\n",
    "gray = np.float32(gray)\n",
    "\n",
    "##For Harris Corner method\n",
    "###Resultant Image\n",
    "res = cv2.cornerHarris(gray,5,3,0.04)\n",
    "\n",
    "#Dilate\n",
    "res = cv2.dilate(res,None)\n",
    "\n",
    "#print(res)\n",
    "\n",
    "##Apply into original image\n",
    "img[res>0.01*res.max()] = [0,0,255]\n",
    "\n",
    "#cv2.imshow(\"Shapes\",img)\n",
    "cv2.imshow(\"Gray Shapes\",img)\n",
    "cv2.waitKey(0)\n",
    "cv2.destroyAllWindows()"
   ]
  },
  {
   "cell_type": "markdown",
   "id": "e0a4802c-fc4c-4f57-af5a-306871367a30",
   "metadata": {},
   "source": [
    "#### "
   ]
  }
 ],
 "metadata": {
  "kernelspec": {
   "display_name": "Python 3 (ipykernel)",
   "language": "python",
   "name": "python3"
  },
  "language_info": {
   "codemirror_mode": {
    "name": "ipython",
    "version": 3
   },
   "file_extension": ".py",
   "mimetype": "text/x-python",
   "name": "python",
   "nbconvert_exporter": "python",
   "pygments_lexer": "ipython3",
   "version": "3.12.4"
  }
 },
 "nbformat": 4,
 "nbformat_minor": 5
}
