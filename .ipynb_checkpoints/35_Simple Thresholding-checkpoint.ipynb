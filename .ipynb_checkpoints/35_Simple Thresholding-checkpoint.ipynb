{
 "cells": [
  {
   "cell_type": "markdown",
   "id": "5fc328fd-6490-4d75-81bf-671bbefc6190",
   "metadata": {},
   "source": [
    "**35_Simple Thresholding**"
   ]
  },
  {
   "cell_type": "markdown",
   "id": "ca335703-dda9-43bb-9153-e0d0ed3d01f1",
   "metadata": {},
   "source": [
    "**Thresholding** is one of the most common (and basic) segmentation techniques in computer vision and it allows us to seperate the foreground(i.e., the objects that we are interseted in) from the background of the image.\n",
    "\n",
    "Thresholding is the binarization of an image."
   ]
  },
  {
   "cell_type": "markdown",
   "id": "7d367ebd-9ad0-44a0-8076-cf0d4a513743",
   "metadata": {},
   "source": [
    "Thresholding comes in three forms:\n",
    "- Simple Thresholding\n",
    "- Ostu's Thresholding\n",
    "- Adaptive Thresholding"
   ]
  },
  {
   "cell_type": "code",
   "execution_count": 1,
   "id": "8c4bf84f-7c6b-4048-a0c6-c241429624e5",
   "metadata": {},
   "outputs": [],
   "source": [
    "import cv2"
   ]
  },
  {
   "cell_type": "code",
   "execution_count": 16,
   "id": "498cb24a-df88-4dab-88b7-72edce928ce4",
   "metadata": {},
   "outputs": [],
   "source": [
    "img = cv2.imread(r\"C:\\Users\\hp\\Documents\\jupyter\\OpenCV by WsCube Tech\\Images\\test.jpg\")\n",
    "img = cv2.resize(img,(600,400))\n",
    "img = cv2.cvtColor(img, cv2.COLOR_BGR2GRAY)\n",
    "\n",
    "# _,th = cv2.threshold(img,120,255,cv2.THRESH_BINARY)\n",
    "# _,th = cv2.threshold(img,120,255,cv2.THRESH_BINARY_INV)\n",
    "# _,th = cv2.threshold(img,120,255,cv2.THRESH_MASK)\n",
    "_,th = cv2.threshold(img,120,255,cv2.THRESH_TRIANGLE)\n",
    "\n",
    "cv2.imshow(\"threshold\",th)\n",
    "cv2.imshow(\"Test\", img)\n",
    "cv2.waitKey(0)\n",
    "cv2.destroyAllWindows()"
   ]
  },
  {
   "cell_type": "code",
   "execution_count": null,
   "id": "1d77ecc9-681c-49f0-8d40-8a3adf6f6a15",
   "metadata": {},
   "outputs": [],
   "source": []
  }
 ],
 "metadata": {
  "kernelspec": {
   "display_name": "Python 3 (ipykernel)",
   "language": "python",
   "name": "python3"
  },
  "language_info": {
   "codemirror_mode": {
    "name": "ipython",
    "version": 3
   },
   "file_extension": ".py",
   "mimetype": "text/x-python",
   "name": "python",
   "nbconvert_exporter": "python",
   "pygments_lexer": "ipython3",
   "version": "3.12.4"
  }
 },
 "nbformat": 4,
 "nbformat_minor": 5
}
