{
 "cells": [
  {
   "cell_type": "markdown",
   "id": "228d7033-a76f-4922-9bf2-1afc9176afc8",
   "metadata": {},
   "source": [
    "**41_Contour Moments and Convex Hull using OpenCV**"
   ]
  },
  {
   "cell_type": "code",
   "execution_count": 1,
   "id": "b8b3187d-29b9-42cb-a49d-be1fd64ceb94",
   "metadata": {},
   "outputs": [],
   "source": [
    "import cv2"
   ]
  },
  {
   "cell_type": "code",
   "execution_count": 6,
   "id": "7697bd4a-fc86-45d8-b2d0-b8c5368d849b",
   "metadata": {},
   "outputs": [
    {
     "name": "stdout",
     "output_type": "stream",
     "text": [
      "[305442.0, 10715.0, 7134.5, 10845.0, 9028.0, 11425.5, 9159.0, 7300.0]\n"
     ]
    }
   ],
   "source": [
    "img = cv2.imread(r\"C:\\Users\\hp\\Documents\\jupyter\\OpenCV by WsCube Tech\\Images\\shapes.png\")\n",
    "#To create contour first convert image into gray scale\n",
    "gray = cv2.cvtColor(img, cv2.COLOR_BGR2GRAY)\n",
    "\n",
    "# Create threshold image \n",
    "## boolean data, threshold data\n",
    "# _,thr = cv2.threshold(gray,100,255,cv2.THRESH_BINARY) # too few colors only\n",
    "# _,thr = cv2.threshold(gray,200,255,cv2.THRESH_BINARY) # proper but some noise\n",
    "_,thr = cv2.threshold(gray,220,255,cv2.THRESH_BINARY)  # perfect threshold image\n",
    "\n",
    "# Contour\n",
    "## contour, hex\n",
    "cnt,hir = cv2.findContours(thr,cv2.RETR_TREE,cv2.CHAIN_APPROX_SIMPLE)\n",
    "\n",
    "\n",
    "# Find Area\n",
    "## find center\n",
    "ar = []\n",
    "for c in cnt:\n",
    "    m = cv2.moments(c)  # moments\n",
    "    x = int(m[\"m10\"]/m[\"m00\"])   #formula for finding center    # int for convert into integer\n",
    "    y = int(m[\"m01\"]/m[\"m00\"])   #formula for finding center    # int for convert into integer\n",
    "    ## Draw Contour\n",
    "    cv2.drawContours(img,cnt,-1,(0,0,255),2)\n",
    "    ## for center\n",
    "    cv2.circle(img,(x,y),5,(255,0,0),-1)\n",
    "    a = cv2.contourArea(c)\n",
    "    ar.append(a)\n",
    "\n",
    "    # For Convex Hull --> for cover maximum part (detection)\n",
    "    ##  Count the length of arc in area and find maximum area\n",
    "    ep = 0.001*cv2.arcLength(c,True)\n",
    "    d = cv2.approxPolyDP(c,ep,True)\n",
    "    h = cv2.convexHull(d)    #for Convex hull\n",
    "    x,y,w,h = cv2.boundingRect(h)     #boundary conditions\n",
    "    cv2.rectangle(img,(x,y),(x+w,y+h),(0,255,0),5)\n",
    "\n",
    "print(ar)\n",
    "cv2.imshow(\"Shapes\", img)\n",
    "# cv2.imshow(\"Gray\", gray)\n",
    "cv2.imshow(\"Threshold\", thr)\n",
    "cv2.waitKey(0)\n",
    "cv2.destroyAllWindows()"
   ]
  },
  {
   "cell_type": "code",
   "execution_count": null,
   "id": "265ef86d-7eb0-45f3-98e9-64f83110cd6f",
   "metadata": {},
   "outputs": [],
   "source": []
  }
 ],
 "metadata": {
  "kernelspec": {
   "display_name": "Python 3 (ipykernel)",
   "language": "python",
   "name": "python3"
  },
  "language_info": {
   "codemirror_mode": {
    "name": "ipython",
    "version": 3
   },
   "file_extension": ".py",
   "mimetype": "text/x-python",
   "name": "python",
   "nbconvert_exporter": "python",
   "pygments_lexer": "ipython3",
   "version": "3.12.4"
  }
 },
 "nbformat": 4,
 "nbformat_minor": 5
}
