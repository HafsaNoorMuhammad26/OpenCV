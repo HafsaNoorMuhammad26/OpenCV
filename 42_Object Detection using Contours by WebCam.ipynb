{
 "cells": [
  {
   "cell_type": "markdown",
   "id": "431006a4-1238-45f4-98c2-0bb0fb1b9a5f",
   "metadata": {},
   "source": [
    "**42_Object Detection using Contours by WebCam**"
   ]
  },
  {
   "cell_type": "markdown",
   "id": "13e27328-a473-4e16-95c6-b74c662297de",
   "metadata": {},
   "source": [
    "### For Notebook Visit --> [GitHub Repo](https://github.com/HafsaNoorMuhammad26/Object-Detection-using-OpenCV-Python.git)"
   ]
  },
  {
   "cell_type": "code",
   "execution_count": null,
   "id": "e5e48af2-10a9-4596-984a-a3bc8c821a65",
   "metadata": {},
   "outputs": [],
   "source": []
  }
 ],
 "metadata": {
  "kernelspec": {
   "display_name": "Python 3 (ipykernel)",
   "language": "python",
   "name": "python3"
  },
  "language_info": {
   "codemirror_mode": {
    "name": "ipython",
    "version": 3
   },
   "file_extension": ".py",
   "mimetype": "text/x-python",
   "name": "python",
   "nbconvert_exporter": "python",
   "pygments_lexer": "ipython3",
   "version": "3.12.4"
  }
 },
 "nbformat": 4,
 "nbformat_minor": 5
}
