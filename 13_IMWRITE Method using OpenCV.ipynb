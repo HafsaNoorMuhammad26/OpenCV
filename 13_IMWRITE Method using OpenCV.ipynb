{
 "cells": [
  {
   "cell_type": "markdown",
   "id": "506696c4-5183-4315-be3f-a60077d860fc",
   "metadata": {},
   "source": [
    "**13_IMWRITE Method using OpenCV**"
   ]
  },
  {
   "cell_type": "code",
   "execution_count": 3,
   "id": "bfa71675-1421-49e5-bded-3410af472fd9",
   "metadata": {},
   "outputs": [],
   "source": [
    "import cv2\n",
    "import numpy as np"
   ]
  },
  {
   "cell_type": "code",
   "execution_count": 8,
   "id": "7cd31cae-5459-4a17-a870-9300e1540159",
   "metadata": {},
   "outputs": [],
   "source": [
    "img = cv2.imread(r\"C:\\Users\\hp\\Documents\\jupyter\\OpenCV by WsCube Tech\\Images\\Sana Javaid.jpg\")\n",
    "img = cv2.resize(img, (300,300))\n",
    "\n",
    "h = np.hstack((img, img))\n",
    "v = np.vstack((h, h))\n",
    "\n",
    "cv2.imwrite(r\"C:\\Users\\hp\\Documents\\jupyter\\OpenCV by WsCube Tech\\Images\\new_img.png\", v)\n",
    "\n",
    "cv2.imshow(\"W1\", v)\n",
    "cv2.waitKey(0)\n",
    "cv2.destroyAllWindows()\n"
   ]
  },
  {
   "cell_type": "code",
   "execution_count": null,
   "id": "f90b74af-b314-46ca-99de-d7ca703b3d9f",
   "metadata": {},
   "outputs": [],
   "source": []
  }
 ],
 "metadata": {
  "kernelspec": {
   "display_name": "Python 3 (ipykernel)",
   "language": "python",
   "name": "python3"
  },
  "language_info": {
   "codemirror_mode": {
    "name": "ipython",
    "version": 3
   },
   "file_extension": ".py",
   "mimetype": "text/x-python",
   "name": "python",
   "nbconvert_exporter": "python",
   "pygments_lexer": "ipython3",
   "version": "3.12.4"
  }
 },
 "nbformat": 4,
 "nbformat_minor": 5
}
