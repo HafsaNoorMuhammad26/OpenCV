{
 "cells": [
  {
   "cell_type": "markdown",
   "id": "e25112af-b980-4088-ab05-07d4ba3d3cde",
   "metadata": {},
   "source": [
    "**36_Ostu's Binarization Threshold OpenCV**"
   ]
  },
  {
   "cell_type": "markdown",
   "id": "3a7d5478-431f-47dc-b373-02597713f14b",
   "metadata": {},
   "source": [
    "In global thresholding, we used an arbitary chosen values as a threshold.\n",
    "\n",
    "Ostu's method avoids having to choose a value and determines it automatically."
   ]
  },
  {
   "cell_type": "markdown",
   "id": "f5acc3c0-8aa5-4d94-9239-2f8a196d8fea",
   "metadata": {},
   "source": [
    "Ostu's algorithm tries to find threshold value (t) which minimizes the weighted within-class variance"
   ]
  },
  {
   "cell_type": "code",
   "execution_count": 3,
   "id": "76bb7db0-c8df-4341-bbe0-6ea29eb9ba72",
   "metadata": {},
   "outputs": [],
   "source": [
    "import cv2\n",
    "import matplotlib.pyplot as plt"
   ]
  },
  {
   "cell_type": "code",
   "execution_count": 21,
   "id": "f604c550-fa62-406f-aff9-c600bcdd97d1",
   "metadata": {},
   "outputs": [],
   "source": [
    "img = cv2.imread(r\"C:\\Users\\hp\\Documents\\jupyter\\OpenCV by WsCube Tech\\Images\\leave.png\")\n",
    "img = cv2.cvtColor(img, cv2.COLOR_BGR2GRAY)\n",
    "\n",
    "# image, color channel,masking,histogram size, range     \n",
    "# hist = cv2.calcHist([img],[0],None,[255],[0,255])\n",
    "\n",
    "# plt.plot(hist)\n",
    "# plt.show()\n",
    "\n",
    "_,thr = cv2.threshold(img,120,255,cv2.THRESH_BINARY+cv2.THRESH_OTSU)\n",
    "\n",
    "cv2.imshow(\"Leave\", img)\n",
    "cv2.imshow(\"Thresh Leave\", thr)\n",
    "cv2.waitKey(0)\n",
    "cv2.destroyAllWindows()"
   ]
  },
  {
   "cell_type": "code",
   "execution_count": null,
   "id": "d9582bdb-0acd-47f1-95be-7488d343db99",
   "metadata": {},
   "outputs": [],
   "source": []
  }
 ],
 "metadata": {
  "kernelspec": {
   "display_name": "Python 3 (ipykernel)",
   "language": "python",
   "name": "python3"
  },
  "language_info": {
   "codemirror_mode": {
    "name": "ipython",
    "version": 3
   },
   "file_extension": ".py",
   "mimetype": "text/x-python",
   "name": "python",
   "nbconvert_exporter": "python",
   "pygments_lexer": "ipython3",
   "version": "3.12.4"
  }
 },
 "nbformat": 4,
 "nbformat_minor": 5
}
