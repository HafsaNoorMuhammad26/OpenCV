{
 "cells": [
  {
   "cell_type": "markdown",
   "id": "5123c326-141f-4339-8ac5-31194de67aae",
   "metadata": {},
   "source": [
    "**10_Edge Detection in an Image using OpenCV**"
   ]
  },
  {
   "cell_type": "code",
   "execution_count": 1,
   "id": "202d37c1-1ea8-488a-b380-9c188140915b",
   "metadata": {},
   "outputs": [],
   "source": [
    "import cv2"
   ]
  },
  {
   "cell_type": "code",
   "execution_count": 13,
   "id": "adf7234d-6ead-4922-afee-6829edf2ae24",
   "metadata": {},
   "outputs": [
    {
     "name": "stdout",
     "output_type": "stream",
     "text": [
      "(500, 400, 3)\n",
      "(500, 400)\n"
     ]
    }
   ],
   "source": [
    "img = cv2.imread(r\"C:\\Users\\hp\\Documents\\jupyter\\OpenCV by WsCube Tech\\Images\\Hania Amir.jpeg\")\n",
    "img = cv2.resize(img,(400, 500))\n",
    "print(img.shape)\n",
    "\n",
    "new_img = cv2.Canny(img, 200,200)\n",
    "# new_img = cv2.Canny(img, 200,200, apertureSize=7, L2gradient= True)   #--> For more details  --  sapertureSize(default =3), L2gradient(default =False)\n",
    "print(new_img.shape)\n",
    "\n",
    "cv2.imshow(\"W1\", new_img)\n",
    "cv2.imshow(\"W2\", img)\n",
    "cv2.waitKey(0)\n",
    "cv2.destroyAllWindows()"
   ]
  },
  {
   "cell_type": "code",
   "execution_count": null,
   "id": "d6fd57d5-0d1f-4397-900c-e9a0bbb3bb9c",
   "metadata": {},
   "outputs": [],
   "source": []
  }
 ],
 "metadata": {
  "kernelspec": {
   "display_name": "Python 3 (ipykernel)",
   "language": "python",
   "name": "python3"
  },
  "language_info": {
   "codemirror_mode": {
    "name": "ipython",
    "version": 3
   },
   "file_extension": ".py",
   "mimetype": "text/x-python",
   "name": "python",
   "nbconvert_exporter": "python",
   "pygments_lexer": "ipython3",
   "version": "3.12.4"
  }
 },
 "nbformat": 4,
 "nbformat_minor": 5
}
