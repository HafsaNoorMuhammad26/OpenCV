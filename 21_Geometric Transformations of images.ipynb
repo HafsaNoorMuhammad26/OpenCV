{
 "cells": [
  {
   "cell_type": "markdown",
   "id": "c9b9139f-d2d0-4cb3-8b91-f6ff8071f993",
   "metadata": {},
   "source": [
    "**21_Geometric Transformations of images**"
   ]
  },
  {
   "cell_type": "markdown",
   "id": "721d1fe0-0f83-4fdb-b98e-539791ce36f0",
   "metadata": {},
   "source": [
    "**Transformations :**\n",
    "- Scaling\n",
    "- Translation\n",
    "- Rotation"
   ]
  },
  {
   "cell_type": "markdown",
   "id": "78721d16-0739-4788-ab89-3cf66ee968ca",
   "metadata": {},
   "source": [
    "**Affine Transformation:**\n",
    "- All parallel lines in the original image will still be output parallel in the output image.\n",
    "- To find the transformation matrix, we need three points from the input image and their corresponding locations in the output image.\n",
    "- Then cv.getAffineTransform will create 2X3 matrix which is to be passed to cv.warpAfffine."
   ]
  },
  {
   "cell_type": "markdown",
   "id": "b57a645e-1f3a-496c-93e7-43d43a1c26e3",
   "metadata": {},
   "source": [
    "**Perspective Transformation:**\n",
    "- You need a 3X3 transformation matrix. Straight lines will remain straight even after the transformation.\n",
    "- You need 4 points on the input image and corresponding points on the output image.\n",
    "- Among these 4 points, 3 of them should not be collinear.\n",
    "- Then the transformation matrix can be found by the function cv.getPerspectiveTransform.\n",
    "- Then apply cv.warPerspective with this 3X3 transformation matrix."
   ]
  },
  {
   "cell_type": "code",
   "execution_count": null,
   "id": "5d8cceb6-d80a-4dd1-bc06-10b94c716671",
   "metadata": {},
   "outputs": [],
   "source": []
  }
 ],
 "metadata": {
  "kernelspec": {
   "display_name": "Python 3 (ipykernel)",
   "language": "python",
   "name": "python3"
  },
  "language_info": {
   "codemirror_mode": {
    "name": "ipython",
    "version": 3
   },
   "file_extension": ".py",
   "mimetype": "text/x-python",
   "name": "python",
   "nbconvert_exporter": "python",
   "pygments_lexer": "ipython3",
   "version": "3.12.4"
  }
 },
 "nbformat": 4,
 "nbformat_minor": 5
}
