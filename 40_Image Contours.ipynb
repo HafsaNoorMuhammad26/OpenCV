{
 "cells": [
  {
   "cell_type": "markdown",
   "id": "e30701eb-1549-4216-b19b-89a4c9f2d2ff",
   "metadata": {},
   "source": [
    "**40_Image Contours**"
   ]
  },
  {
   "cell_type": "code",
   "execution_count": 1,
   "id": "5b8a941a-4ea0-4887-8a9f-c80ea7bbc1ea",
   "metadata": {},
   "outputs": [],
   "source": [
    "import cv2"
   ]
  },
  {
   "cell_type": "code",
   "execution_count": null,
   "id": "dba130a3-4082-43ec-99d2-324272f06229",
   "metadata": {},
   "outputs": [],
   "source": [
    "img = cv2.imread(r\"C:\\Users\\hp\\Documents\\jupyter\\OpenCV by WsCube Tech\\Images\\chrome.png\")\n",
    "img = cv2.resize(img, (700,400))\n",
    "gray = cv2.cvtColor(img, cv2.COLOR_BGR2GRAY) # convert gray\n",
    "\n",
    "# binary / threshold image\n",
    "# r, thr = cv2.threshold(gray,150,255,cv2.THRESH_BINARY)\n",
    "# r, thr = cv2.threshold(gray,255,255,cv2.THRESH_BINARY) \n",
    "r, thr = cv2.threshold(gray,250,255,cv2.THRESH_BINARY)   # A perfect counter (complete logo give)\n",
    "# For Contour \n",
    "## Two variables--> contour data(c), hexdata/boolean data(h)\n",
    "c,h = cv2.findContours(thr, cv2.RETR_TREE, cv2.CHAIN_APPROX_SIMPLE)\n",
    "# print(c) # prints counter points\n",
    "\n",
    "## Add contour into image\n",
    "#   image, counter, counterIndewx=-1(for show all points of counter), color, thickness\n",
    "new_img = cv2.drawContours(img,c,-1,(255,0,0),2)\n",
    "\n",
    "\n",
    "# cv2.imshow(\"Chrome\", img)\n",
    "# cv2.imshow(\"Gray\", gray)\n",
    "# cv2.imshow(\"Thresh\", thr)\n",
    "cv2.imshow(\"Counter Image\", new_img)\n",
    "cv2.waitKey(0)\n",
    "cv2.destroyAllWindows()"
   ]
  },
  {
   "cell_type": "code",
   "execution_count": null,
   "id": "bcbecbcb-8f82-4d2b-91d9-f3b777382cb7",
   "metadata": {},
   "outputs": [],
   "source": []
  }
 ],
 "metadata": {
  "kernelspec": {
   "display_name": "Python 3 (ipykernel)",
   "language": "python",
   "name": "python3"
  },
  "language_info": {
   "codemirror_mode": {
    "name": "ipython",
    "version": 3
   },
   "file_extension": ".py",
   "mimetype": "text/x-python",
   "name": "python",
   "nbconvert_exporter": "python",
   "pygments_lexer": "ipython3",
   "version": "3.12.4"
  }
 },
 "nbformat": 4,
 "nbformat_minor": 5
}
