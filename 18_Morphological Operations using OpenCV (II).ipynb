{
 "cells": [
  {
   "cell_type": "markdown",
   "id": "b192d4d6-4f6a-453a-a67c-ec44783dc57e",
   "metadata": {},
   "source": [
    "**18_Morphological Operations using OpenCV (II)**"
   ]
  },
  {
   "cell_type": "code",
   "execution_count": 7,
   "id": "1562fb49-032d-41df-9003-b8fda5c3f575",
   "metadata": {},
   "outputs": [],
   "source": [
    "import cv2\n",
    "import numpy as np"
   ]
  },
  {
   "cell_type": "code",
   "execution_count": 13,
   "id": "354e783e-452e-4d2e-ab18-d7c501df4144",
   "metadata": {},
   "outputs": [],
   "source": [
    "img = cv2.imread(r\"C:\\Users\\hp\\Documents\\jupyter\\OpenCV by WsCube Tech\\Binary Images\\jw.png\")\n",
    "img = cv2.resize(img, (500,500))\n",
    "\n",
    "#create mask/matrix\n",
    "k = np.ones((15,15), np.int8)\n",
    "\n",
    "# Openi ng\n",
    "op = cv2.morphologyEx(img, cv2.MORPH_OPEN, k, iterations=1)\n",
    "\n",
    "cv2.imshow(\"W1\", img)\n",
    "cv2.imshow(\"Ws1\", op)    \n",
    "cv2.waitKey(0)\n",
    "cv2.destroyAllWindows()"
   ]
  },
  {
   "cell_type": "code",
   "execution_count": 17,
   "id": "142edaf2-2f74-4e0c-9deb-2cd9179e38eb",
   "metadata": {},
   "outputs": [],
   "source": [
    "img = cv2.imread(r\"C:\\Users\\hp\\Documents\\jupyter\\OpenCV by WsCube Tech\\Binary Images\\jb.png\")\n",
    "img = cv2.resize(img, (500,500))\n",
    "\n",
    "#create mask/matrix\n",
    "k = np.ones((12,12), np.int8)\n",
    "\n",
    "# Closing\n",
    "cl = cv2.morphologyEx(img, cv2.MORPH_CLOSE, k, iterations=1)\n",
    "\n",
    "cv2.imshow(\"W1\", img)\n",
    "cv2.imshow(\"Ws1\", cl)    \n",
    "cv2.waitKey(0)\n",
    "cv2.destroyAllWindows()"
   ]
  },
  {
   "cell_type": "code",
   "execution_count": 26,
   "id": "0a397435-8ce8-4c3e-9470-27640269934b",
   "metadata": {},
   "outputs": [],
   "source": [
    "img = cv2.imread(r\"C:\\Users\\hp\\Documents\\jupyter\\OpenCV by WsCube Tech\\Binary Images\\g.png\")\n",
    "img = cv2.resize(img, (500,500))\n",
    "\n",
    "#create mask/matrix\n",
    "k = np.ones((12,12), np.int8)\n",
    "\n",
    "# Morphological Gradient\n",
    "gr = cv2.morphologyEx(img, cv2.MORPH_GRADIENT, k, iterations=1)\n",
    "\n",
    "cv2.imshow(\"W1\", img)\n",
    "cv2.imshow(\"Ws1\", gr)         \n",
    "cv2.waitKey(0)\n",
    "cv2.destroyAllWindows()"
   ]
  },
  {
   "cell_type": "code",
   "execution_count": 27,
   "id": "a4e25c70-2f1e-47c0-91de-46b72904a039",
   "metadata": {},
   "outputs": [],
   "source": [
    "img = cv2.imread(r\"C:\\Users\\hp\\Documents\\jupyter\\OpenCV by WsCube Tech\\Binary Images\\g.png\")\n",
    "img = cv2.resize(img, (500,500))\n",
    "\n",
    "#create mask/matrix\n",
    "k = np.ones((40,40), np.int8)  #hardness part delete\n",
    "\n",
    "# Top Hat\n",
    "tp = cv2.morphologyEx(img, cv2.MORPH_TOPHAT, k, iterations=1)\n",
    "\n",
    "cv2.imshow(\"W1\", img)   \n",
    "cv2.imshow(\"Ws1\", tp)     \n",
    "cv2.waitKey(0)\n",
    "cv2.destroyAllWindows()"
   ]
  },
  {
   "cell_type": "code",
   "execution_count": 28,
   "id": "9ebf2873-2306-4677-b0fb-e0963be7e891",
   "metadata": {},
   "outputs": [],
   "source": [
    "img = cv2.imread(r\"C:\\Users\\hp\\Documents\\jupyter\\OpenCV by WsCube Tech\\Binary Images\\g.png\")\n",
    "img = cv2.resize(img, (500,500))\n",
    "\n",
    "#create mask/matrix\n",
    "k = np.ones((40,40), np.int8)\n",
    "\n",
    "# Black Hat\n",
    "bk = cv2.morphologyEx(img, cv2.MORPH_BLACKHAT, k, iterations=1)\n",
    "\n",
    "cv2.imshow(\"W1\", img)   \n",
    "cv2.imshow(\"Ws1\", bk)     \n",
    "cv2.waitKey(0)\n",
    "cv2.destroyAllWindows()"
   ]
  },
  {
   "cell_type": "code",
   "execution_count": null,
   "id": "a041ef63-5304-4664-b567-bd4773e35003",
   "metadata": {},
   "outputs": [],
   "source": []
  }
 ],
 "metadata": {
  "kernelspec": {
   "display_name": "Python 3 (ipykernel)",
   "language": "python",
   "name": "python3"
  },
  "language_info": {
   "codemirror_mode": {
    "name": "ipython",
    "version": 3
   },
   "file_extension": ".py",
   "mimetype": "text/x-python",
   "name": "python",
   "nbconvert_exporter": "python",
   "pygments_lexer": "ipython3",
   "version": "3.12.4"
  }
 },
 "nbformat": 4,
 "nbformat_minor": 5
}
