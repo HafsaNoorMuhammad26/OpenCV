{
 "cells": [
  {
   "cell_type": "markdown",
   "id": "3bf42e09-5add-4620-96c5-0ae4cae9192d",
   "metadata": {},
   "source": [
    "**11_Image Scaling, Rotating using OpenCV**"
   ]
  },
  {
   "cell_type": "code",
   "execution_count": 23,
   "id": "3ea944f0-490d-4720-bf78-5ff962b8014c",
   "metadata": {},
   "outputs": [],
   "source": [
    "import cv2\n",
    "import numpy as np"
   ]
  },
  {
   "cell_type": "code",
   "execution_count": 11,
   "id": "130462ee-a08f-4137-a272-3e38ad82f33c",
   "metadata": {},
   "outputs": [],
   "source": [
    "##Resize Image\n",
    "img = cv2.imread(r\"C:\\Users\\hp\\Documents\\jupyter\\OpenCV by WsCube Tech\\Images\\Sana.jpg\")\n",
    "\n",
    "img = cv2.resize(img, (500,600))\n",
    "\n",
    "cv2.imshow(\"F1\", img)\n",
    "cv2.waitKey(0)\n",
    "cv2.destroyAllWindows()\n"
   ]
  },
  {
   "cell_type": "code",
   "execution_count": 29,
   "id": "ac449223-de7c-49e3-a690-a548dbc7d181",
   "metadata": {},
   "outputs": [],
   "source": [
    "##Rotate Image\n",
    "img = cv2.imread(r\"C:\\Users\\hp\\Documents\\jupyter\\OpenCV by WsCube Tech\\Images\\Sana.jpg\")\n",
    "img = cv2.resize(img, (500,500))\n",
    "w = img.shape[0]  # shows width matrix\n",
    "h = img.shape[1]  # shows height matrix\n",
    "\n",
    "m = cv2.getRotationMatrix2D((w/2,h/2),180,1)  # (center, angle, scale)\n",
    "new_img = cv2.warpAffine(img, m, (w,h)) ## Combine matrix for before and after rotation\n",
    "\n",
    "h = np.hstack((img, new_img))\n",
    "\n",
    "cv2.imshow(\"F1\", h)\n",
    "cv2.waitKey(0)\n",
    "cv2.destroyAllWindows()\n"
   ]
  },
  {
   "cell_type": "code",
   "execution_count": null,
   "id": "7731638e-a8dd-4b2e-9cdf-6f4617cd1d9d",
   "metadata": {},
   "outputs": [],
   "source": []
  }
 ],
 "metadata": {
  "kernelspec": {
   "display_name": "Python 3 (ipykernel)",
   "language": "python",
   "name": "python3"
  },
  "language_info": {
   "codemirror_mode": {
    "name": "ipython",
    "version": 3
   },
   "file_extension": ".py",
   "mimetype": "text/x-python",
   "name": "python",
   "nbconvert_exporter": "python",
   "pygments_lexer": "ipython3",
   "version": "3.12.4"
  }
 },
 "nbformat": 4,
 "nbformat_minor": 5
}
