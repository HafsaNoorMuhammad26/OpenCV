{
 "cells": [
  {
   "cell_type": "markdown",
   "id": "5ee8692a-11c0-4fd6-9854-a3cdc135a617",
   "metadata": {},
   "source": [
    "**5_Draw Line and Rectangle on Image**"
   ]
  },
  {
   "cell_type": "code",
   "execution_count": 2,
   "id": "4e23aebb-5494-447b-9c42-3ed4b1aac5f6",
   "metadata": {},
   "outputs": [],
   "source": [
    "import cv2"
   ]
  },
  {
   "cell_type": "code",
   "execution_count": 3,
   "id": "b3b6a831-7dfe-4e32-9b86-353aec708342",
   "metadata": {},
   "outputs": [],
   "source": [
    "old_img = cv2.imread(r\"C:\\Users\\hp\\Documents\\jupyter\\OpenCV by WsCube Tech\\Images\\Hania Amir.jpeg\")\n",
    "old_img = cv2.resize(old_img,(500,600))\n",
    "\n",
    "new_img = cv2.line(img = old_img, pt1=(160,80), pt2=(320,80), color=(0,255,0), thickness=4, lineType=4)\n",
    "\n",
    "cv2.imshow(\"I1\", new_img)\n",
    "cv2.waitKey(0)\n",
    "cv2.destroyAllWindows()"
   ]
  },
  {
   "cell_type": "code",
   "execution_count": 26,
   "id": "cef17e30-4128-40c1-a29e-0db218466b15",
   "metadata": {},
   "outputs": [],
   "source": [
    "old_img = cv2.imread(r\"C:\\Users\\hp\\Documents\\jupyter\\OpenCV by WsCube Tech\\Images\\Hania Amir.jpeg\")\n",
    "old_img = cv2.resize(old_img,(500,600))\n",
    "\n",
    "txt_img = cv2.putText(img=old_img, text=\"Hania's Face\", org =(60,20), fontFace=2, fontScale=1, color=(0,255,0), thickness=1, lineType=16, bottomLeftOrigin=False)\n",
    "\n",
    "new_img = cv2.rectangle(img = txt_img, pt1=(60,25), pt2=(450,460), color=(0,255,0), thickness=4, lineType=16)\n",
    "\n",
    "cv2.imshow(\"I1\", new_img)\n",
    "cv2.waitKey(0)\n",
    "cv2.destroyAllWindows()"
   ]
  },
  {
   "cell_type": "code",
   "execution_count": 27,
   "id": "12bca342-570d-4c09-8640-fe0774bf3ebd",
   "metadata": {},
   "outputs": [],
   "source": [
    "old_img = cv2.imread(r\"C:\\Users\\hp\\Documents\\jupyter\\OpenCV by WsCube Tech\\Images\\Sana Javaid.jpg\")\n",
    "old_img = cv2.resize(old_img,(500,600))\n",
    "\n",
    "txt_img = cv2.putText(img=old_img, text=\"Sana's Face\", org =(135,50), fontFace=2, fontScale=1, color=(0,0,255), thickness=1, lineType=16, bottomLeftOrigin=False)\n",
    "\n",
    "new_img = cv2.rectangle(img = txt_img, pt1=(135,60), pt2=(450,270), color=(0,0,255), thickness=4, lineType=16)\n",
    "\n",
    "cv2.imshow(\"I1\", new_img)\n",
    "cv2.waitKey(0)\n",
    "cv2.destroyAllWindows()"
   ]
  },
  {
   "cell_type": "code",
   "execution_count": null,
   "id": "1f1bb847-f84a-4261-923d-c9d5bd8d446e",
   "metadata": {},
   "outputs": [],
   "source": []
  }
 ],
 "metadata": {
  "kernelspec": {
   "display_name": "Python 3 (ipykernel)",
   "language": "python",
   "name": "python3"
  },
  "language_info": {
   "codemirror_mode": {
    "name": "ipython",
    "version": 3
   },
   "file_extension": ".py",
   "mimetype": "text/x-python",
   "name": "python",
   "nbconvert_exporter": "python",
   "pygments_lexer": "ipython3",
   "version": "3.12.4"
  }
 },
 "nbformat": 4,
 "nbformat_minor": 5
}
