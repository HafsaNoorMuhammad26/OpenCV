{
 "cells": [
  {
   "cell_type": "markdown",
   "id": "bcf8e733-2d02-4d40-a80e-f0bb812bf841",
   "metadata": {},
   "source": [
    "**6_Draw Circle and Elipse on Image**"
   ]
  },
  {
   "cell_type": "code",
   "execution_count": 1,
   "id": "f190a1c2-abae-446e-92d3-1dccc9e2a9b7",
   "metadata": {},
   "outputs": [],
   "source": [
    "import cv2"
   ]
  },
  {
   "cell_type": "code",
   "execution_count": null,
   "id": "dec9ce88-d565-48fb-b116-6cf0fb3e851d",
   "metadata": {},
   "outputs": [],
   "source": [
    "old_img = cv2.imread(r\"C:\\Users\\hp\\Documents\\jupyter\\OpenCV by WsCube Tech\\Images\\Sana Javaid.jpg\")\n",
    "old_img = cv2.resize(old_img, (400,500))\n",
    "\n",
    "new_img = cv2.circle(img=old_img, center=(250,135), radius=95, color=(0,255,0), thickness=7, lineType=16)\n",
    "\n",
    "\n",
    "cv2.imshow(\"Frame1\", new_img)\n",
    "cv2.waitKey(0)\n",
    "cv2.destroyAllWindows()\n"
   ]
  },
  {
   "cell_type": "code",
   "execution_count": 83,
   "id": "9c59876f-9a1d-49b6-b4af-3412490dc7c2",
   "metadata": {},
   "outputs": [],
   "source": [
    "old_img = cv2.imread(r\"C:\\Users\\hp\\Documents\\jupyter\\OpenCV by WsCube Tech\\Images\\Sana Javaid.jpg\")\n",
    "old_img = cv2.resize(old_img, (400,500))\n",
    "\n",
    "txt_img = cv2.putText(img=old_img, text=\"Sana\", org=(300,177), fontFace=2, fontScale=1, color=(255,255,255), thickness=3, lineType=16, bottomLeftOrigin=False)\n",
    "\n",
    "new_img = cv2.ellipse(img=txt_img, center=(245,135), axes=(100,75), angle=30,\n",
    "                     startAngle=0, endAngle=340, color=(255,255,255), thickness=-4, lineType=16)\n",
    "\n",
    "cv2.imshow(\"Frame1\", new_img)\n",
    "cv2.waitKey(0)\n",
    "cv2.destroyAllWindows()\n"
   ]
  },
  {
   "cell_type": "code",
   "execution_count": null,
   "id": "07702300-1d7f-46e4-820f-13bf96247c74",
   "metadata": {},
   "outputs": [],
   "source": []
  },
  {
   "cell_type": "code",
   "execution_count": null,
   "id": "b0701b17-0f21-4802-ad23-cb80b8a37531",
   "metadata": {},
   "outputs": [],
   "source": []
  }
 ],
 "metadata": {
  "kernelspec": {
   "display_name": "Python 3 (ipykernel)",
   "language": "python",
   "name": "python3"
  },
  "language_info": {
   "codemirror_mode": {
    "name": "ipython",
    "version": 3
   },
   "file_extension": ".py",
   "mimetype": "text/x-python",
   "name": "python",
   "nbconvert_exporter": "python",
   "pygments_lexer": "ipython3",
   "version": "3.12.4"
  }
 },
 "nbformat": 4,
 "nbformat_minor": 5
}
